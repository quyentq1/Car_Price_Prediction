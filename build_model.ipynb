{
  "cells": [
    {
      "attachments": {},
      "cell_type": "markdown",
      "metadata": {
        "id": "oH5m0J_kHph3"
      },
      "source": [
        "# **Data Preparation**\n",
        "1.   Import các thư viện cần thiết\n",
        "2.   Đọc dữ liệu\n",
        "3.   Khám phá dữ liệu (EDA)"
      ]
    },
    {
      "attachments": {},
      "cell_type": "markdown",
      "metadata": {
        "id": "NZrtsHPsIkoj"
      },
      "source": [
        "## Import thư viện"
      ]
    },
    {
      "cell_type": "code",
      "execution_count": 2,
      "metadata": {
        "id": "zTSHfcPWpJ4g"
      },
      "outputs": [],
      "source": [
        "# Import libraries\n",
        "import pandas as pd \n",
        "import numpy as np\n",
        "import matplotlib.pyplot as plt\n",
        "import seaborn as sns"
      ]
    },
    {
      "attachments": {},
      "cell_type": "markdown",
      "metadata": {
        "id": "LUEPn0a8Ionz"
      },
      "source": [
        "## Đọc dữ liệu"
      ]
    },
    {
      "cell_type": "code",
      "execution_count": 3,
      "metadata": {
        "colab": {
          "base_uri": "https://localhost:8080/"
        },
        "id": "4Zk3yp69pecI",
        "outputId": "04952be9-daf7-46d6-9e61-f2020884538a"
      },
      "outputs": [
        {
          "data": {
            "text/plain": [
              "['audi.csv',\n",
              " 'bmw.csv',\n",
              " 'focus.csv',\n",
              " 'ford.csv',\n",
              " 'hyundi.csv',\n",
              " 'merc.csv',\n",
              " 'skoda.csv',\n",
              " 'toyota.csv',\n",
              " 'vauxhall.csv',\n",
              " 'vw.csv']"
            ]
          },
          "execution_count": 3,
          "metadata": {},
          "output_type": "execute_result"
        }
      ],
      "source": [
        "import os\n",
        "from os import listdir\n",
        "dirs = os.listdir('data') # Lấy danh sách các file trong folder\n",
        "dirs"
      ]
    },
    {
      "cell_type": "code",
      "execution_count": 4,
      "metadata": {
        "colab": {
          "base_uri": "https://localhost:8080/"
        },
        "id": "BkD_bz8IJR0r",
        "outputId": "88f2b3a6-c356-4520-bbb7-87fef23bdc2f"
      },
      "outputs": [
        {
          "name": "stdout",
          "output_type": "stream",
          "text": [
            "audi.csv : Index(['model', 'year', 'price', 'transmission', 'mileage', 'fuelType', 'tax',\n",
            "       'mpg', 'engineSize'],\n",
            "      dtype='object')\n",
            "---\n",
            "bmw.csv : Index(['model', 'year', 'price', 'transmission', 'mileage', 'fuelType', 'tax',\n",
            "       'mpg', 'engineSize'],\n",
            "      dtype='object')\n",
            "---\n",
            "focus.csv : Index(['model', 'year', 'price', 'transmission', 'mileage', 'fuelType',\n",
            "       'engineSize'],\n",
            "      dtype='object')\n",
            "---\n",
            "ford.csv : Index(['model', 'year', 'price', 'transmission', 'mileage', 'fuelType', 'tax',\n",
            "       'mpg', 'engineSize'],\n",
            "      dtype='object')\n",
            "---\n",
            "hyundi.csv : Index(['model', 'year', 'price', 'transmission', 'mileage', 'fuelType',\n",
            "       'tax(£)', 'mpg', 'engineSize'],\n",
            "      dtype='object')\n",
            "---\n",
            "merc.csv : Index(['model', 'year', 'price', 'transmission', 'mileage', 'fuelType', 'tax',\n",
            "       'mpg', 'engineSize'],\n",
            "      dtype='object')\n",
            "---\n",
            "skoda.csv : Index(['model', 'year', 'price', 'transmission', 'mileage', 'fuelType', 'tax',\n",
            "       'mpg', 'engineSize'],\n",
            "      dtype='object')\n",
            "---\n"
          ]
        },
        {
          "name": "stdout",
          "output_type": "stream",
          "text": [
            "toyota.csv : Index(['model', 'year', 'price', 'transmission', 'mileage', 'fuelType', 'tax',\n",
            "       'mpg', 'engineSize'],\n",
            "      dtype='object')\n",
            "---\n",
            "vauxhall.csv : Index(['model', 'year', 'price', 'transmission', 'mileage', 'fuelType', 'tax',\n",
            "       'mpg', 'engineSize'],\n",
            "      dtype='object')\n",
            "---\n",
            "vw.csv : Index(['model', 'year', 'price', 'transmission', 'mileage', 'fuelType', 'tax',\n",
            "       'mpg', 'engineSize'],\n",
            "      dtype='object')\n",
            "---\n"
          ]
        }
      ],
      "source": [
        "#Kiểm tra các cột dữ liệu\n",
        "\n",
        "basic = 'data/'\n",
        "df = pd.DataFrame(data = None)\n",
        "for file in dirs:\n",
        "  url =  basic + file\n",
        "  new_df = pd.read_csv(url)\n",
        "  print(file, \":\",new_df.columns)\n",
        "  print(\"---\")\n",
        "  # df = pd.concat([df,new_df])"
      ]
    },
    {
      "attachments": {},
      "cell_type": "markdown",
      "metadata": {
        "id": "HtwdxVgbJxay"
      },
      "source": [
        "\n",
        "\n",
        "> **Trong file của hãng xe hyundi cột thuế có tên là tax(£) thay vì tax nên Ta phải đổi tên cột trong file này**\n",
        "\n"
      ]
    },
    {
      "cell_type": "code",
      "execution_count": 5,
      "metadata": {
        "colab": {
          "base_uri": "https://localhost:8080/"
        },
        "id": "c6eWxsY6JwQc",
        "outputId": "505ce3f1-874b-41f4-c0e9-7020d4acbfa8"
      },
      "outputs": [
        {
          "data": {
            "text/html": [
              "<div>\n",
              "<style scoped>\n",
              "    .dataframe tbody tr th:only-of-type {\n",
              "        vertical-align: middle;\n",
              "    }\n",
              "\n",
              "    .dataframe tbody tr th {\n",
              "        vertical-align: top;\n",
              "    }\n",
              "\n",
              "    .dataframe thead th {\n",
              "        text-align: right;\n",
              "    }\n",
              "</style>\n",
              "<table border=\"1\" class=\"dataframe\">\n",
              "  <thead>\n",
              "    <tr style=\"text-align: right;\">\n",
              "      <th></th>\n",
              "      <th>model</th>\n",
              "      <th>year</th>\n",
              "      <th>price</th>\n",
              "      <th>transmission</th>\n",
              "      <th>mileage</th>\n",
              "      <th>fuelType</th>\n",
              "      <th>tax</th>\n",
              "      <th>mpg</th>\n",
              "      <th>engineSize</th>\n",
              "      <th>automaker</th>\n",
              "    </tr>\n",
              "  </thead>\n",
              "  <tbody>\n",
              "    <tr>\n",
              "      <th>0</th>\n",
              "      <td>A1</td>\n",
              "      <td>2017</td>\n",
              "      <td>12500</td>\n",
              "      <td>Manual</td>\n",
              "      <td>15735</td>\n",
              "      <td>Petrol</td>\n",
              "      <td>150.0</td>\n",
              "      <td>55.4</td>\n",
              "      <td>1.4</td>\n",
              "      <td>audi</td>\n",
              "    </tr>\n",
              "    <tr>\n",
              "      <th>1</th>\n",
              "      <td>A6</td>\n",
              "      <td>2016</td>\n",
              "      <td>16500</td>\n",
              "      <td>Automatic</td>\n",
              "      <td>36203</td>\n",
              "      <td>Diesel</td>\n",
              "      <td>20.0</td>\n",
              "      <td>64.2</td>\n",
              "      <td>2.0</td>\n",
              "      <td>audi</td>\n",
              "    </tr>\n",
              "    <tr>\n",
              "      <th>2</th>\n",
              "      <td>A1</td>\n",
              "      <td>2016</td>\n",
              "      <td>11000</td>\n",
              "      <td>Manual</td>\n",
              "      <td>29946</td>\n",
              "      <td>Petrol</td>\n",
              "      <td>30.0</td>\n",
              "      <td>55.4</td>\n",
              "      <td>1.4</td>\n",
              "      <td>audi</td>\n",
              "    </tr>\n",
              "    <tr>\n",
              "      <th>3</th>\n",
              "      <td>A4</td>\n",
              "      <td>2017</td>\n",
              "      <td>16800</td>\n",
              "      <td>Automatic</td>\n",
              "      <td>25952</td>\n",
              "      <td>Diesel</td>\n",
              "      <td>145.0</td>\n",
              "      <td>67.3</td>\n",
              "      <td>2.0</td>\n",
              "      <td>audi</td>\n",
              "    </tr>\n",
              "    <tr>\n",
              "      <th>4</th>\n",
              "      <td>A3</td>\n",
              "      <td>2019</td>\n",
              "      <td>17300</td>\n",
              "      <td>Manual</td>\n",
              "      <td>1998</td>\n",
              "      <td>Petrol</td>\n",
              "      <td>145.0</td>\n",
              "      <td>49.6</td>\n",
              "      <td>1.0</td>\n",
              "      <td>audi</td>\n",
              "    </tr>\n",
              "  </tbody>\n",
              "</table>\n",
              "</div>"
            ],
            "text/plain": [
              "  model  year  price transmission  mileage fuelType    tax   mpg  engineSize  \\\n",
              "0    A1  2017  12500       Manual    15735   Petrol  150.0  55.4         1.4   \n",
              "1    A6  2016  16500    Automatic    36203   Diesel   20.0  64.2         2.0   \n",
              "2    A1  2016  11000       Manual    29946   Petrol   30.0  55.4         1.4   \n",
              "3    A4  2017  16800    Automatic    25952   Diesel  145.0  67.3         2.0   \n",
              "4    A3  2019  17300       Manual     1998   Petrol  145.0  49.6         1.0   \n",
              "\n",
              "  automaker  \n",
              "0      audi  \n",
              "1      audi  \n",
              "2      audi  \n",
              "3      audi  \n",
              "4      audi  "
            ]
          },
          "execution_count": 5,
          "metadata": {},
          "output_type": "execute_result"
        }
      ],
      "source": [
        "#Integration data\n",
        "\n",
        "basic = 'data/'\n",
        "df = pd.DataFrame(data = None)\n",
        "for file in dirs:\n",
        "  url =  basic + file\n",
        "  new_df = pd.read_csv(url) #đọc từng file trong folder\n",
        "  new_df['automaker'] = file.split(\".\")[0] #tạo cột hãng xe\n",
        "  if file == 'hyundi.csv': \n",
        "    new_df.rename(columns = {'tax(£)': 'tax'}, inplace =True) #đổi tên cột thuế\n",
        "  df = pd.concat([df,new_df]) #gộp file\n",
        "df.head()"
      ]
    },
    {
      "attachments": {},
      "cell_type": "markdown",
      "metadata": {
        "id": "nlx4cVTqKtf8"
      },
      "source": [
        "## Exploratory data analysis (EDA)"
      ]
    },
    {
      "attachments": {},
      "cell_type": "markdown",
      "metadata": {
        "id": "EjhDGBAfMI1Z"
      },
      "source": [
        "**Preview data**"
      ]
    },
    {
      "cell_type": "code",
      "execution_count": 6,
      "metadata": {
        "colab": {
          "base_uri": "https://localhost:8080/"
        },
        "id": "I-w_Az0-Lxss",
        "outputId": "9b22b7c2-c44a-4d4a-e177-3efc05f80b4d"
      },
      "outputs": [
        {
          "data": {
            "text/plain": [
              "Index(['model', 'year', 'price', 'transmission', 'mileage', 'fuelType', 'tax',\n",
              "       'mpg', 'engineSize', 'automaker'],\n",
              "      dtype='object')"
            ]
          },
          "execution_count": 6,
          "metadata": {},
          "output_type": "execute_result"
        }
      ],
      "source": [
        "# Cột dữ liệu\n",
        "\n",
        "df.columns"
      ]
    },
    {
      "cell_type": "code",
      "execution_count": 7,
      "metadata": {
        "colab": {
          "base_uri": "https://localhost:8080/"
        },
        "id": "Q0bd7wgDp0p9",
        "outputId": "b419d00b-5065-4775-8061-98a94aefca9b"
      },
      "outputs": [
        {
          "name": "stdout",
          "output_type": "stream",
          "text": [
            "<class 'pandas.core.frame.DataFrame'>\n",
            "Int64Index: 104641 entries, 0 to 15156\n",
            "Data columns (total 10 columns):\n",
            " #   Column        Non-Null Count   Dtype  \n",
            "---  ------        --------------   -----  \n",
            " 0   model         104641 non-null  object \n",
            " 1   year          104641 non-null  int64  \n",
            " 2   price         104641 non-null  int64  \n",
            " 3   transmission  104641 non-null  object \n",
            " 4   mileage       104641 non-null  int64  \n",
            " 5   fuelType      104641 non-null  object \n",
            " 6   tax           99187 non-null   float64\n",
            " 7   mpg           99187 non-null   float64\n",
            " 8   engineSize    104641 non-null  float64\n",
            " 9   automaker     104641 non-null  object \n",
            "dtypes: float64(3), int64(3), object(4)\n",
            "memory usage: 8.8+ MB\n"
          ]
        }
      ],
      "source": [
        "df.info()"
      ]
    },
    {
      "cell_type": "code",
      "execution_count": 8,
      "metadata": {
        "colab": {
          "base_uri": "https://localhost:8080/",
          "height": 206
        },
        "id": "AwJ-WX62L4iv",
        "outputId": "5f1fc49c-ef73-4014-fbf4-e507553c18a2"
      },
      "outputs": [
        {
          "data": {
            "text/html": [
              "<div>\n",
              "<style scoped>\n",
              "    .dataframe tbody tr th:only-of-type {\n",
              "        vertical-align: middle;\n",
              "    }\n",
              "\n",
              "    .dataframe tbody tr th {\n",
              "        vertical-align: top;\n",
              "    }\n",
              "\n",
              "    .dataframe thead th {\n",
              "        text-align: right;\n",
              "    }\n",
              "</style>\n",
              "<table border=\"1\" class=\"dataframe\">\n",
              "  <thead>\n",
              "    <tr style=\"text-align: right;\">\n",
              "      <th></th>\n",
              "      <th>model</th>\n",
              "      <th>year</th>\n",
              "      <th>price</th>\n",
              "      <th>transmission</th>\n",
              "      <th>mileage</th>\n",
              "      <th>fuelType</th>\n",
              "      <th>tax</th>\n",
              "      <th>mpg</th>\n",
              "      <th>engineSize</th>\n",
              "      <th>automaker</th>\n",
              "    </tr>\n",
              "  </thead>\n",
              "  <tbody>\n",
              "    <tr>\n",
              "      <th>0</th>\n",
              "      <td>A1</td>\n",
              "      <td>2017</td>\n",
              "      <td>12500</td>\n",
              "      <td>Manual</td>\n",
              "      <td>15735</td>\n",
              "      <td>Petrol</td>\n",
              "      <td>150.0</td>\n",
              "      <td>55.4</td>\n",
              "      <td>1.4</td>\n",
              "      <td>audi</td>\n",
              "    </tr>\n",
              "    <tr>\n",
              "      <th>1</th>\n",
              "      <td>A6</td>\n",
              "      <td>2016</td>\n",
              "      <td>16500</td>\n",
              "      <td>Automatic</td>\n",
              "      <td>36203</td>\n",
              "      <td>Diesel</td>\n",
              "      <td>20.0</td>\n",
              "      <td>64.2</td>\n",
              "      <td>2.0</td>\n",
              "      <td>audi</td>\n",
              "    </tr>\n",
              "    <tr>\n",
              "      <th>2</th>\n",
              "      <td>A1</td>\n",
              "      <td>2016</td>\n",
              "      <td>11000</td>\n",
              "      <td>Manual</td>\n",
              "      <td>29946</td>\n",
              "      <td>Petrol</td>\n",
              "      <td>30.0</td>\n",
              "      <td>55.4</td>\n",
              "      <td>1.4</td>\n",
              "      <td>audi</td>\n",
              "    </tr>\n",
              "    <tr>\n",
              "      <th>3</th>\n",
              "      <td>A4</td>\n",
              "      <td>2017</td>\n",
              "      <td>16800</td>\n",
              "      <td>Automatic</td>\n",
              "      <td>25952</td>\n",
              "      <td>Diesel</td>\n",
              "      <td>145.0</td>\n",
              "      <td>67.3</td>\n",
              "      <td>2.0</td>\n",
              "      <td>audi</td>\n",
              "    </tr>\n",
              "    <tr>\n",
              "      <th>4</th>\n",
              "      <td>A3</td>\n",
              "      <td>2019</td>\n",
              "      <td>17300</td>\n",
              "      <td>Manual</td>\n",
              "      <td>1998</td>\n",
              "      <td>Petrol</td>\n",
              "      <td>145.0</td>\n",
              "      <td>49.6</td>\n",
              "      <td>1.0</td>\n",
              "      <td>audi</td>\n",
              "    </tr>\n",
              "  </tbody>\n",
              "</table>\n",
              "</div>"
            ],
            "text/plain": [
              "  model  year  price transmission  mileage fuelType    tax   mpg  engineSize  \\\n",
              "0    A1  2017  12500       Manual    15735   Petrol  150.0  55.4         1.4   \n",
              "1    A6  2016  16500    Automatic    36203   Diesel   20.0  64.2         2.0   \n",
              "2    A1  2016  11000       Manual    29946   Petrol   30.0  55.4         1.4   \n",
              "3    A4  2017  16800    Automatic    25952   Diesel  145.0  67.3         2.0   \n",
              "4    A3  2019  17300       Manual     1998   Petrol  145.0  49.6         1.0   \n",
              "\n",
              "  automaker  \n",
              "0      audi  \n",
              "1      audi  \n",
              "2      audi  \n",
              "3      audi  \n",
              "4      audi  "
            ]
          },
          "execution_count": 8,
          "metadata": {},
          "output_type": "execute_result"
        }
      ],
      "source": [
        "df.head()"
      ]
    },
    {
      "attachments": {},
      "cell_type": "markdown",
      "metadata": {
        "id": "-g4DwKu9L3r6"
      },
      "source": [
        " Phân loại categorical và numerical columns "
      ]
    },
    {
      "cell_type": "code",
      "execution_count": 9,
      "metadata": {
        "colab": {
          "base_uri": "https://localhost:8080/"
        },
        "id": "pVYmrHXVMsXi",
        "outputId": "080fe8be-2713-4a0c-d386-0697e0de0857"
      },
      "outputs": [
        {
          "name": "stdout",
          "output_type": "stream",
          "text": [
            "<class 'pandas.core.frame.DataFrame'>\n",
            "Int64Index: 104641 entries, 0 to 15156\n",
            "Data columns (total 10 columns):\n",
            " #   Column        Non-Null Count   Dtype   \n",
            "---  ------        --------------   -----   \n",
            " 0   model         104641 non-null  category\n",
            " 1   year          104641 non-null  int64   \n",
            " 2   price         104641 non-null  int64   \n",
            " 3   transmission  104641 non-null  category\n",
            " 4   mileage       104641 non-null  int64   \n",
            " 5   fuelType      104641 non-null  category\n",
            " 6   tax           99187 non-null   float64 \n",
            " 7   mpg           99187 non-null   float64 \n",
            " 8   engineSize    104641 non-null  float64 \n",
            " 9   automaker     104641 non-null  category\n",
            "dtypes: category(4), float64(3), int64(3)\n",
            "memory usage: 6.1 MB\n"
          ]
        }
      ],
      "source": [
        "# Chuyển tất cả các cột có kiểu dữ liệu là object sang categorical\n",
        "\n",
        "categorical_cols = ['model','transmission','fuelType','automaker']\n",
        "for categorical_col in categorical_cols:\n",
        "  df[categorical_col] = df[categorical_col].astype('category')\n",
        "df.info()"
      ]
    },
    {
      "attachments": {},
      "cell_type": "markdown",
      "metadata": {
        "id": "pPF2a2EMNkQq"
      },
      "source": [
        "** Xem phân bổ của các biến **"
      ]
    },
    {
      "attachments": {},
      "cell_type": "markdown",
      "metadata": {
        "id": "_eUXSkQyb_2l"
      },
      "source": [
        "Đối với biến Numerical"
      ]
    },
    {
      "cell_type": "code",
      "execution_count": 10,
      "metadata": {
        "colab": {
          "base_uri": "https://localhost:8080/",
          "height": 300
        },
        "id": "HagccXc-NZgb",
        "outputId": "eb5920f9-2c24-4847-fb69-6731065434d0"
      },
      "outputs": [
        {
          "data": {
            "text/html": [
              "<div>\n",
              "<style scoped>\n",
              "    .dataframe tbody tr th:only-of-type {\n",
              "        vertical-align: middle;\n",
              "    }\n",
              "\n",
              "    .dataframe tbody tr th {\n",
              "        vertical-align: top;\n",
              "    }\n",
              "\n",
              "    .dataframe thead th {\n",
              "        text-align: right;\n",
              "    }\n",
              "</style>\n",
              "<table border=\"1\" class=\"dataframe\">\n",
              "  <thead>\n",
              "    <tr style=\"text-align: right;\">\n",
              "      <th></th>\n",
              "      <th>year</th>\n",
              "      <th>price</th>\n",
              "      <th>mileage</th>\n",
              "      <th>tax</th>\n",
              "      <th>mpg</th>\n",
              "      <th>engineSize</th>\n",
              "    </tr>\n",
              "  </thead>\n",
              "  <tbody>\n",
              "    <tr>\n",
              "      <th>count</th>\n",
              "      <td>104641.000000</td>\n",
              "      <td>104641.000000</td>\n",
              "      <td>104641.00000</td>\n",
              "      <td>99187.000000</td>\n",
              "      <td>99187.000000</td>\n",
              "      <td>104641.000000</td>\n",
              "    </tr>\n",
              "    <tr>\n",
              "      <th>mean</th>\n",
              "      <td>2017.089066</td>\n",
              "      <td>16637.341186</td>\n",
              "      <td>23049.41090</td>\n",
              "      <td>120.299838</td>\n",
              "      <td>55.166825</td>\n",
              "      <td>1.647643</td>\n",
              "    </tr>\n",
              "    <tr>\n",
              "      <th>std</th>\n",
              "      <td>2.126373</td>\n",
              "      <td>9693.391294</td>\n",
              "      <td>21120.06364</td>\n",
              "      <td>63.150926</td>\n",
              "      <td>16.138522</td>\n",
              "      <td>0.554577</td>\n",
              "    </tr>\n",
              "    <tr>\n",
              "      <th>min</th>\n",
              "      <td>1970.000000</td>\n",
              "      <td>450.000000</td>\n",
              "      <td>1.00000</td>\n",
              "      <td>0.000000</td>\n",
              "      <td>0.300000</td>\n",
              "      <td>0.000000</td>\n",
              "    </tr>\n",
              "    <tr>\n",
              "      <th>25%</th>\n",
              "      <td>2016.000000</td>\n",
              "      <td>10000.000000</td>\n",
              "      <td>7530.00000</td>\n",
              "      <td>125.000000</td>\n",
              "      <td>47.100000</td>\n",
              "      <td>1.200000</td>\n",
              "    </tr>\n",
              "    <tr>\n",
              "      <th>50%</th>\n",
              "      <td>2017.000000</td>\n",
              "      <td>14440.000000</td>\n",
              "      <td>17360.00000</td>\n",
              "      <td>145.000000</td>\n",
              "      <td>54.300000</td>\n",
              "      <td>1.500000</td>\n",
              "    </tr>\n",
              "    <tr>\n",
              "      <th>75%</th>\n",
              "      <td>2019.000000</td>\n",
              "      <td>20395.000000</td>\n",
              "      <td>32234.00000</td>\n",
              "      <td>145.000000</td>\n",
              "      <td>62.800000</td>\n",
              "      <td>2.000000</td>\n",
              "    </tr>\n",
              "    <tr>\n",
              "      <th>max</th>\n",
              "      <td>2060.000000</td>\n",
              "      <td>159999.000000</td>\n",
              "      <td>323000.00000</td>\n",
              "      <td>580.000000</td>\n",
              "      <td>470.800000</td>\n",
              "      <td>6.600000</td>\n",
              "    </tr>\n",
              "  </tbody>\n",
              "</table>\n",
              "</div>"
            ],
            "text/plain": [
              "                year          price       mileage           tax           mpg  \\\n",
              "count  104641.000000  104641.000000  104641.00000  99187.000000  99187.000000   \n",
              "mean     2017.089066   16637.341186   23049.41090    120.299838     55.166825   \n",
              "std         2.126373    9693.391294   21120.06364     63.150926     16.138522   \n",
              "min      1970.000000     450.000000       1.00000      0.000000      0.300000   \n",
              "25%      2016.000000   10000.000000    7530.00000    125.000000     47.100000   \n",
              "50%      2017.000000   14440.000000   17360.00000    145.000000     54.300000   \n",
              "75%      2019.000000   20395.000000   32234.00000    145.000000     62.800000   \n",
              "max      2060.000000  159999.000000  323000.00000    580.000000    470.800000   \n",
              "\n",
              "          engineSize  \n",
              "count  104641.000000  \n",
              "mean        1.647643  \n",
              "std         0.554577  \n",
              "min         0.000000  \n",
              "25%         1.200000  \n",
              "50%         1.500000  \n",
              "75%         2.000000  \n",
              "max         6.600000  "
            ]
          },
          "execution_count": 10,
          "metadata": {},
          "output_type": "execute_result"
        }
      ],
      "source": [
        "# Đối với biến Numerical\n",
        "\n",
        "numerical_cols = ['year','price','mileage','tax','mpg','engineSize']\n",
        "\n",
        "df[numerical_cols].describe()"
      ]
    },
    {
      "cell_type": "code",
      "execution_count": 11,
      "metadata": {
        "colab": {
          "base_uri": "https://localhost:8080/"
        },
        "id": "lcRftq4mT3fZ",
        "outputId": "410ecd99-d578-4acb-e448-a3e5191853c5"
      },
      "outputs": [
        {
          "name": "stdout",
          "output_type": "stream",
          "text": [
            "year column has 27 distinct values\n",
            "It takes 0.03 %\n",
            "---\n",
            "price column has 13271 distinct values\n",
            "It takes 12.68 %\n",
            "---\n",
            "mileage column has 42277 distinct values\n",
            "It takes 40.40 %\n",
            "---\n",
            "tax column has 48 distinct values\n",
            "It takes 0.05 %\n",
            "---\n",
            "mpg column has 208 distinct values\n",
            "It takes 0.20 %\n",
            "---\n",
            "engineSize column has 40 distinct values\n",
            "It takes 0.04 %\n",
            "---\n"
          ]
        }
      ],
      "source": [
        "# Đếm số giá trị riêng biệt trong biến định lượng\n",
        "distincts = []\n",
        "percents = []\n",
        "for numerical_col in numerical_cols:\n",
        "  distinct = df[numerical_col].nunique()\n",
        "  percent = distinct*100/df.shape[0]\n",
        "  print(numerical_col, 'column has',distinct,'distinct values')\n",
        "  print('It takes', format(percent,'.2f'),'%')\n",
        "  print('---')\n",
        "  distincts.append(distinct)\n",
        "  percents.append(format(percent,'.2f')+'%')\n",
        "data = {'Count Distinct': distincts,'Take Percent':percents}"
      ]
    },
    {
      "cell_type": "code",
      "execution_count": 12,
      "metadata": {
        "colab": {
          "base_uri": "https://localhost:8080/",
          "height": 238
        },
        "id": "nD2Z2XMuWKVu",
        "outputId": "37decc4e-be45-4860-e778-f8a176de0979"
      },
      "outputs": [
        {
          "data": {
            "text/html": [
              "<div>\n",
              "<style scoped>\n",
              "    .dataframe tbody tr th:only-of-type {\n",
              "        vertical-align: middle;\n",
              "    }\n",
              "\n",
              "    .dataframe tbody tr th {\n",
              "        vertical-align: top;\n",
              "    }\n",
              "\n",
              "    .dataframe thead th {\n",
              "        text-align: right;\n",
              "    }\n",
              "</style>\n",
              "<table border=\"1\" class=\"dataframe\">\n",
              "  <thead>\n",
              "    <tr style=\"text-align: right;\">\n",
              "      <th></th>\n",
              "      <th>Count Distinct</th>\n",
              "      <th>Take Percent</th>\n",
              "    </tr>\n",
              "  </thead>\n",
              "  <tbody>\n",
              "    <tr>\n",
              "      <th>year</th>\n",
              "      <td>27</td>\n",
              "      <td>0.03%</td>\n",
              "    </tr>\n",
              "    <tr>\n",
              "      <th>price</th>\n",
              "      <td>13271</td>\n",
              "      <td>12.68%</td>\n",
              "    </tr>\n",
              "    <tr>\n",
              "      <th>mileage</th>\n",
              "      <td>42277</td>\n",
              "      <td>40.40%</td>\n",
              "    </tr>\n",
              "    <tr>\n",
              "      <th>tax</th>\n",
              "      <td>48</td>\n",
              "      <td>0.05%</td>\n",
              "    </tr>\n",
              "    <tr>\n",
              "      <th>mpg</th>\n",
              "      <td>208</td>\n",
              "      <td>0.20%</td>\n",
              "    </tr>\n",
              "    <tr>\n",
              "      <th>engineSize</th>\n",
              "      <td>40</td>\n",
              "      <td>0.04%</td>\n",
              "    </tr>\n",
              "  </tbody>\n",
              "</table>\n",
              "</div>"
            ],
            "text/plain": [
              "            Count Distinct Take Percent\n",
              "year                    27        0.03%\n",
              "price                13271       12.68%\n",
              "mileage              42277       40.40%\n",
              "tax                     48        0.05%\n",
              "mpg                    208        0.20%\n",
              "engineSize              40        0.04%"
            ]
          },
          "execution_count": 12,
          "metadata": {},
          "output_type": "execute_result"
        }
      ],
      "source": [
        "# Xem dưới dạng bảng thống kê\n",
        "\n",
        "pd.DataFrame (data = data, index = numerical_cols)"
      ]
    },
    {
      "attachments": {},
      "cell_type": "markdown",
      "metadata": {
        "id": "GiXhYHEmWmcf"
      },
      "source": [
        "\n",
        "\n",
        "> **Những biến định lượng có ít giá trị riêng biệt sẽ được nhóm cụm và chuyển thành biến category >> Chia theo tứ phân vị**\n",
        "\n"
      ]
    },
    {
      "cell_type": "code",
      "execution_count": 13,
      "metadata": {
        "colab": {
          "base_uri": "https://localhost:8080/",
          "height": 556
        },
        "id": "EhraaewNXz9i",
        "outputId": "5ffb9d03-7907-442f-bc1b-4f7e4865aa2e"
      },
      "outputs": [
        {
          "name": "stderr",
          "output_type": "stream",
          "text": [
            "C:\\Users\\Admin\\AppData\\Local\\Temp\\ipykernel_34052\\1066335418.py:3: MatplotlibDeprecationWarning: The seaborn styles shipped by Matplotlib are deprecated since 3.6, as they no longer correspond to the styles shipped by seaborn. However, they will remain available as 'seaborn-v0_8-<style>'. Alternatively, directly use the seaborn API instead.\n",
            "  plt.style.use('seaborn')\n"
          ]
        },
        {
          "data": {
            "text/plain": [
              "<matplotlib.collections.PathCollection at 0x187a85e16f0>"
            ]
          },
          "execution_count": 13,
          "metadata": {},
          "output_type": "execute_result"
        },
        {
          "data": {
            "image/png": "[encoded data removed]",
            "text/plain": [
              "<Figure size 800x550 with 1 Axes>"
            ]
          },
          "metadata": {},
          "output_type": "display_data"
        }
      ],
      "source": [
        "# Xem độ tương quan giữa giá xe và tổng số dặm đã đi (mileage)\n",
        "\n",
        "plt.style.use('seaborn')\n",
        "\n",
        "plt.scatter(data = df, x='mileage',y='price')"
      ]
    },
    {
      "attachments": {},
      "cell_type": "markdown",
      "metadata": {
        "id": "TwYi0DiiZYt5"
      },
      "source": [
        "\n",
        "\n",
        "> Ta chưa thấy nhiều tương quan giữa 2 biến trên >> Thử logarit biến milleage\n",
        "\n"
      ]
    },
    {
      "cell_type": "code",
      "execution_count": 14,
      "metadata": {
        "colab": {
          "base_uri": "https://localhost:8080/",
          "height": 501
        },
        "id": "aOeY_CioYwy9",
        "outputId": "00e9782d-f583-4b60-8a4b-4b976c7f3907"
      },
      "outputs": [
        {
          "data": {
            "text/plain": [
              "<matplotlib.collections.PathCollection at 0x187ac3c0640>"
            ]
          },
          "execution_count": 14,
          "metadata": {},
          "output_type": "execute_result"
        },
        {
          "data": {
            "image/png": "[encoded data removed]",
            "text/plain": [
              "<Figure size 800x550 with 1 Axes>"
            ]
          },
          "metadata": {},
          "output_type": "display_data"
        }
      ],
      "source": [
        "import math\n",
        "df['ln_mileage'] = df['mileage'].apply(lambda x: math.log(x))\n",
        "\n",
        "plt.scatter(data = df, x='ln_mileage',y='price')"
      ]
    },
    {
      "cell_type": "code",
      "execution_count": 15,
      "metadata": {
        "colab": {
          "base_uri": "https://localhost:8080/",
          "height": 112
        },
        "id": "FzmxMUM9ZL5X",
        "outputId": "37b514fd-762d-4e86-d9d2-8714c587325d"
      },
      "outputs": [
        {
          "data": {
            "text/html": [
              "<div>\n",
              "<style scoped>\n",
              "    .dataframe tbody tr th:only-of-type {\n",
              "        vertical-align: middle;\n",
              "    }\n",
              "\n",
              "    .dataframe tbody tr th {\n",
              "        vertical-align: top;\n",
              "    }\n",
              "\n",
              "    .dataframe thead th {\n",
              "        text-align: right;\n",
              "    }\n",
              "</style>\n",
              "<table border=\"1\" class=\"dataframe\">\n",
              "  <thead>\n",
              "    <tr style=\"text-align: right;\">\n",
              "      <th></th>\n",
              "      <th>ln_mileage</th>\n",
              "      <th>price</th>\n",
              "    </tr>\n",
              "  </thead>\n",
              "  <tbody>\n",
              "    <tr>\n",
              "      <th>ln_mileage</th>\n",
              "      <td>1.000000</td>\n",
              "      <td>-0.421716</td>\n",
              "    </tr>\n",
              "    <tr>\n",
              "      <th>price</th>\n",
              "      <td>-0.421716</td>\n",
              "      <td>1.000000</td>\n",
              "    </tr>\n",
              "  </tbody>\n",
              "</table>\n",
              "</div>"
            ],
            "text/plain": [
              "            ln_mileage     price\n",
              "ln_mileage    1.000000 -0.421716\n",
              "price        -0.421716  1.000000"
            ]
          },
          "execution_count": 15,
          "metadata": {},
          "output_type": "execute_result"
        }
      ],
      "source": [
        "# Độ tương quan \n",
        "df[['ln_mileage','price']].corr()"
      ]
    },
    {
      "attachments": {},
      "cell_type": "markdown",
      "metadata": {
        "id": "UZnSp0UnaaCV"
      },
      "source": [
        "\n",
        "\n",
        "> Tương quan nghịch >> Đúng với nhận định ban đấu\n",
        "\n"
      ]
    },
    {
      "cell_type": "code",
      "execution_count": 16,
      "metadata": {
        "colab": {
          "base_uri": "https://localhost:8080/",
          "height": 556
        },
        "id": "9XwYee_-aLR1",
        "outputId": "b4fe175b-5c3a-428f-8167-ba1d538b93cf"
      },
      "outputs": [
        {
          "name": "stderr",
          "output_type": "stream",
          "text": [
            "C:\\Users\\Admin\\AppData\\Local\\Temp\\ipykernel_34052\\597852098.py:3: MatplotlibDeprecationWarning: The seaborn styles shipped by Matplotlib are deprecated since 3.6, as they no longer correspond to the styles shipped by seaborn. However, they will remain available as 'seaborn-v0_8-<style>'. Alternatively, directly use the seaborn API instead.\n",
            "  plt.style.use('seaborn')\n"
          ]
        },
        {
          "data": {
            "text/plain": [
              "<matplotlib.collections.PathCollection at 0x187ac35fc70>"
            ]
          },
          "execution_count": 16,
          "metadata": {},
          "output_type": "execute_result"
        },
        {
          "data": {
            "image/png": "[encoded data removed]",
            "text/plain": [
              "<Figure size 800x550 with 1 Axes>"
            ]
          },
          "metadata": {},
          "output_type": "display_data"
        }
      ],
      "source": [
        "# Xem độ tương quan giữa giá xe và số dặm đi được trên 1 gallon(mpg)\n",
        "\n",
        "plt.style.use('seaborn')\n",
        "\n",
        "plt.scatter(data = df, x='mpg',y='price')"
      ]
    },
    {
      "cell_type": "code",
      "execution_count": 17,
      "metadata": {
        "colab": {
          "base_uri": "https://localhost:8080/",
          "height": 112
        },
        "id": "bBczAr54alrN",
        "outputId": "0fbdfe75-7953-45c3-8a01-772ad8db243c"
      },
      "outputs": [
        {
          "data": {
            "text/html": [
              "<div>\n",
              "<style scoped>\n",
              "    .dataframe tbody tr th:only-of-type {\n",
              "        vertical-align: middle;\n",
              "    }\n",
              "\n",
              "    .dataframe tbody tr th {\n",
              "        vertical-align: top;\n",
              "    }\n",
              "\n",
              "    .dataframe thead th {\n",
              "        text-align: right;\n",
              "    }\n",
              "</style>\n",
              "<table border=\"1\" class=\"dataframe\">\n",
              "  <thead>\n",
              "    <tr style=\"text-align: right;\">\n",
              "      <th></th>\n",
              "      <th>mpg</th>\n",
              "      <th>price</th>\n",
              "    </tr>\n",
              "  </thead>\n",
              "  <tbody>\n",
              "    <tr>\n",
              "      <th>mpg</th>\n",
              "      <td>1.000000</td>\n",
              "      <td>-0.296429</td>\n",
              "    </tr>\n",
              "    <tr>\n",
              "      <th>price</th>\n",
              "      <td>-0.296429</td>\n",
              "      <td>1.000000</td>\n",
              "    </tr>\n",
              "  </tbody>\n",
              "</table>\n",
              "</div>"
            ],
            "text/plain": [
              "            mpg     price\n",
              "mpg    1.000000 -0.296429\n",
              "price -0.296429  1.000000"
            ]
          },
          "execution_count": 17,
          "metadata": {},
          "output_type": "execute_result"
        }
      ],
      "source": [
        "df[['mpg','price']].corr()"
      ]
    },
    {
      "cell_type": "code",
      "execution_count": 18,
      "metadata": {
        "colab": {
          "base_uri": "https://localhost:8080/",
          "height": 501
        },
        "id": "cPnUboILazUe",
        "outputId": "ac408dc9-0c4e-4c61-8346-e1052eb7d508"
      },
      "outputs": [
        {
          "data": {
            "text/plain": [
              "<matplotlib.collections.PathCollection at 0x187ac3da260>"
            ]
          },
          "execution_count": 18,
          "metadata": {},
          "output_type": "execute_result"
        },
        {
          "data": {
            "image/png": "[encoded data removed]",
            "text/plain": [
              "<Figure size 800x550 with 1 Axes>"
            ]
          },
          "metadata": {},
          "output_type": "display_data"
        }
      ],
      "source": [
        "df['ln_mpg'] = df['mpg'].apply(lambda x: math.log(x))\n",
        "\n",
        "plt.scatter(data = df, x='ln_mpg',y='price')"
      ]
    },
    {
      "cell_type": "code",
      "execution_count": 19,
      "metadata": {
        "colab": {
          "base_uri": "https://localhost:8080/",
          "height": 112
        },
        "id": "mEOsAmLCbYHw",
        "outputId": "4acdc7ed-14c6-40a8-e945-e9cd368a01ac"
      },
      "outputs": [
        {
          "data": {
            "text/html": [
              "<div>\n",
              "<style scoped>\n",
              "    .dataframe tbody tr th:only-of-type {\n",
              "        vertical-align: middle;\n",
              "    }\n",
              "\n",
              "    .dataframe tbody tr th {\n",
              "        vertical-align: top;\n",
              "    }\n",
              "\n",
              "    .dataframe thead th {\n",
              "        text-align: right;\n",
              "    }\n",
              "</style>\n",
              "<table border=\"1\" class=\"dataframe\">\n",
              "  <thead>\n",
              "    <tr style=\"text-align: right;\">\n",
              "      <th></th>\n",
              "      <th>ln_mpg</th>\n",
              "      <th>price</th>\n",
              "    </tr>\n",
              "  </thead>\n",
              "  <tbody>\n",
              "    <tr>\n",
              "      <th>ln_mpg</th>\n",
              "      <td>1.000000</td>\n",
              "      <td>-0.442113</td>\n",
              "    </tr>\n",
              "    <tr>\n",
              "      <th>price</th>\n",
              "      <td>-0.442113</td>\n",
              "      <td>1.000000</td>\n",
              "    </tr>\n",
              "  </tbody>\n",
              "</table>\n",
              "</div>"
            ],
            "text/plain": [
              "          ln_mpg     price\n",
              "ln_mpg  1.000000 -0.442113\n",
              "price  -0.442113  1.000000"
            ]
          },
          "execution_count": 19,
          "metadata": {},
          "output_type": "execute_result"
        }
      ],
      "source": [
        "df[['ln_mpg','price']].corr()"
      ]
    },
    {
      "attachments": {},
      "cell_type": "markdown",
      "metadata": {
        "id": "dDjHjsozb1Wk"
      },
      "source": [
        "Đối với biến category"
      ]
    },
    {
      "cell_type": "code",
      "execution_count": 20,
      "metadata": {
        "colab": {
          "base_uri": "https://localhost:8080/",
          "height": 175
        },
        "id": "ikTTKRA4cKQj",
        "outputId": "87ed1ab7-df25-4e9e-c43f-8b1f54eafe7c"
      },
      "outputs": [
        {
          "data": {
            "text/html": [
              "<div>\n",
              "<style scoped>\n",
              "    .dataframe tbody tr th:only-of-type {\n",
              "        vertical-align: middle;\n",
              "    }\n",
              "\n",
              "    .dataframe tbody tr th {\n",
              "        vertical-align: top;\n",
              "    }\n",
              "\n",
              "    .dataframe thead th {\n",
              "        text-align: right;\n",
              "    }\n",
              "</style>\n",
              "<table border=\"1\" class=\"dataframe\">\n",
              "  <thead>\n",
              "    <tr style=\"text-align: right;\">\n",
              "      <th></th>\n",
              "      <th>model</th>\n",
              "      <th>transmission</th>\n",
              "      <th>fuelType</th>\n",
              "      <th>automaker</th>\n",
              "    </tr>\n",
              "  </thead>\n",
              "  <tbody>\n",
              "    <tr>\n",
              "      <th>count</th>\n",
              "      <td>104641</td>\n",
              "      <td>104641</td>\n",
              "      <td>104641</td>\n",
              "      <td>104641</td>\n",
              "    </tr>\n",
              "    <tr>\n",
              "      <th>unique</th>\n",
              "      <td>195</td>\n",
              "      <td>4</td>\n",
              "      <td>5</td>\n",
              "      <td>10</td>\n",
              "    </tr>\n",
              "    <tr>\n",
              "      <th>top</th>\n",
              "      <td>Focus</td>\n",
              "      <td>Manual</td>\n",
              "      <td>Petrol</td>\n",
              "      <td>ford</td>\n",
              "    </tr>\n",
              "    <tr>\n",
              "      <th>freq</th>\n",
              "      <td>10042</td>\n",
              "      <td>61109</td>\n",
              "      <td>58473</td>\n",
              "      <td>17965</td>\n",
              "    </tr>\n",
              "  </tbody>\n",
              "</table>\n",
              "</div>"
            ],
            "text/plain": [
              "         model transmission fuelType automaker\n",
              "count   104641       104641   104641    104641\n",
              "unique     195            4        5        10\n",
              "top      Focus       Manual   Petrol      ford\n",
              "freq     10042        61109    58473     17965"
            ]
          },
          "execution_count": 20,
          "metadata": {},
          "output_type": "execute_result"
        }
      ],
      "source": [
        "df.describe(include=['category'])"
      ]
    },
    {
      "attachments": {},
      "cell_type": "markdown",
      "metadata": {
        "id": "oUoHY7GVcURc"
      },
      "source": [
        "\n",
        "\n",
        "> Có quá nhiều Model tronng dữ liệu. Các mẫu xe được lấy theo từng tập dữ liệu của hãng. Ta sẽ xem phân bổ của giá theo hãng xe và sẽ chia nhóm cho từng hãng.\n"
      ]
    },
    {
      "cell_type": "code",
      "execution_count": 21,
      "metadata": {
        "colab": {
          "base_uri": "https://localhost:8080/"
        },
        "id": "bhj6SJD0erG1",
        "outputId": "4e50721d-2fd6-4921-eaa0-79e2158654b9"
      },
      "outputs": [
        {
          "data": {
            "text/plain": [
              "model\n",
              " 1 Series    15821.670391\n",
              " 2 Series    19539.371847\n",
              " 3 Series    19880.857962\n",
              " 4 Series    22498.418090\n",
              " 5 Series    22537.428030\n",
              "                 ...     \n",
              " i8          57012.588235\n",
              "180          10799.000000\n",
              "200          19495.000000\n",
              "220          19995.000000\n",
              "230           4500.000000\n",
              "Name: price, Length: 195, dtype: float64"
            ]
          },
          "execution_count": 21,
          "metadata": {},
          "output_type": "execute_result"
        }
      ],
      "source": [
        "# Giá xe trung bình theo model\n",
        "df.groupby('model')['price'].mean()"
      ]
    },
    {
      "cell_type": "code",
      "execution_count": 22,
      "metadata": {
        "colab": {
          "base_uri": "https://localhost:8080/"
        },
        "id": "2yGSZx22dixT",
        "outputId": "072d45e6-37b6-45c0-8b30-ad4194eb077e"
      },
      "outputs": [
        {
          "data": {
            "text/plain": [
              "count      195.000000\n",
              "mean     20904.649592\n",
              "std      15732.952087\n",
              "min       1295.000000\n",
              "25%      10356.120690\n",
              "50%      17720.226351\n",
              "75%      26826.640391\n",
              "max      98934.200000\n",
              "Name: price, dtype: float64"
            ]
          },
          "execution_count": 22,
          "metadata": {},
          "output_type": "execute_result"
        }
      ],
      "source": [
        "#Xem phân bổ\n",
        "df.groupby('model')['price'].mean().describe()"
      ]
    },
    {
      "attachments": {},
      "cell_type": "markdown",
      "metadata": {
        "id": "gHRVZMP6glKj"
      },
      "source": [
        "\n",
        "\n",
        "> **Biến định tính model sẽ được nhóm cụm trong bước sau**\n",
        "\n"
      ]
    },
    {
      "cell_type": "code",
      "execution_count": 23,
      "metadata": {
        "colab": {
          "base_uri": "https://localhost:8080/",
          "height": 701
        },
        "id": "1h82ahS1gxWe",
        "outputId": "5e069cd8-c439-4a58-8b9a-5c69c73fa7f3"
      },
      "outputs": [
        {
          "data": {
            "image/png": "[encoded data removed]",
            "text/plain": [
              "<Figure size 700x700 with 4 Axes>"
            ]
          },
          "metadata": {},
          "output_type": "display_data"
        }
      ],
      "source": [
        "# Giá xa trung bình theo transmission, fuelType, automaker\n",
        "\n",
        "cols = ['transmission', 'fuelType', 'automaker']\n",
        "# data = df.groupby[cols[i]]\n",
        "n_cols = 2\n",
        "n_rows = 2\n",
        "fix, ax = plt.subplots(n_rows, n_cols, figsize=(n_cols*3.5, n_rows*3.5))\n",
        "sns.set_theme(style=\"whitegrid\")\n",
        "sns.set_color_codes(\"pastel\")\n",
        "for r in range(n_rows):\n",
        "    for c in range(n_cols):\n",
        "        i = r*n_cols + c #Lấy vị trí của cols muốn vẽ\n",
        "        if i < len(cols):\n",
        "            ax_i = ax[r,c] #Lấy axis muốn vẽ\n",
        "            data = df.groupby(cols[i])['price'].mean().sort_values(ascending = False).reset_index()\n",
        "\n",
        "            sns.barplot(data = data ,y=cols[i],x = 'price',ax= ax_i)\n",
        "            ax.flat[-1].set_visible(False) #Xóa axis cuối\n",
        "            plt.tight_layout() #Để các đồ thị không đè lên nhau\n"
      ]
    },
    {
      "attachments": {},
      "cell_type": "markdown",
      "metadata": {
        "id": "2-wIrNxopJJI"
      },
      "source": [
        "\n",
        "\n",
        "> Ta thấy hãy xe nhiều hãng có giá trung bình tương tự nhau. Kết hợp với việc các Model thuộc các hãng riêng biệt nên ta sẽ gom cột Model và cột Automaker thành một cột mới và chia theo \"Hạng xe\"\n",
        "\n"
      ]
    },
    {
      "attachments": {},
      "cell_type": "markdown",
      "metadata": {
        "id": "mfsnIlRUqFdQ"
      },
      "source": [
        "# **Tiền xử lý dữ liệu - Data Preprocessing**"
      ]
    },
    {
      "attachments": {},
      "cell_type": "markdown",
      "metadata": {
        "id": "wLFc42dJqMCY"
      },
      "source": [
        "## **Xử lý dữ liệu thiếu - Missing value**"
      ]
    },
    {
      "cell_type": "code",
      "execution_count": 24,
      "metadata": {
        "colab": {
          "base_uri": "https://localhost:8080/"
        },
        "id": "hrNxW8nGqW6B",
        "outputId": "0ef5fe7f-c80f-4ded-b1fe-37dd78b2398b"
      },
      "outputs": [
        {
          "name": "stdout",
          "output_type": "stream",
          "text": [
            "Column tax contains 5454 missing value\n",
            "take 5.21 %\n",
            "--\n",
            "Column mpg contains 5454 missing value\n",
            "take 5.21 %\n",
            "--\n",
            "Column ln_mpg contains 5454 missing value\n",
            "take 5.21 %\n",
            "--\n"
          ]
        }
      ],
      "source": [
        "columns = df.columns\n",
        "for i,column in enumerate(columns):\n",
        "  missing = df[column].isnull().sum()\n",
        "  percent = missing*100/(df.shape[0])\n",
        "  if missing  > 0:\n",
        "    print('Column', column, 'contains', missing, 'missing value')\n",
        "    print('take', format(percent, \".2f\"), \"%\")\n",
        "    print(\"--\")"
      ]
    },
    {
      "attachments": {},
      "cell_type": "markdown",
      "metadata": {
        "id": "HAJU6RWWyUsz"
      },
      "source": [
        "Thay những giá trị tax và ln_mpg bị null bằng giá trị trung bình của toàn dữ liệu"
      ]
    },
    {
      "cell_type": "code",
      "execution_count": 25,
      "metadata": {
        "id": "kmiWzuIq0ETt"
      },
      "outputs": [
        {
          "data": {
            "text/plain": [
              "0        4.014580\n",
              "1        4.162003\n",
              "2        4.014580\n",
              "3        4.209160\n",
              "4        3.903991\n",
              "           ...   \n",
              "15152    4.075841\n",
              "15153    3.835142\n",
              "15154    3.737670\n",
              "15155    3.835142\n",
              "15156    3.835142\n",
              "Name: ln_mpg, Length: 104641, dtype: float64"
            ]
          },
          "execution_count": 25,
          "metadata": {},
          "output_type": "execute_result"
        }
      ],
      "source": [
        "avg = df[df['ln_mpg'].notnull()]['ln_mpg'].mean()\n",
        "df['ln_mpg'] = df['ln_mpg'].fillna(avg)\n",
        "df['ln_mpg']"
      ]
    },
    {
      "cell_type": "code",
      "execution_count": 26,
      "metadata": {
        "id": "j5RL9WQwEUHs"
      },
      "outputs": [
        {
          "data": {
            "text/plain": [
              "0        150.0\n",
              "1         20.0\n",
              "2         30.0\n",
              "3        145.0\n",
              "4        145.0\n",
              "         ...  \n",
              "15152    125.0\n",
              "15153    145.0\n",
              "15154    200.0\n",
              "15155    150.0\n",
              "15156    145.0\n",
              "Name: tax, Length: 104641, dtype: float64"
            ]
          },
          "execution_count": 26,
          "metadata": {},
          "output_type": "execute_result"
        }
      ],
      "source": [
        "\n",
        "df['tax'] = df['tax'].fillna(df[df['tax'].notnull()]['tax'].mean())\n",
        "df['tax']"
      ]
    },
    {
      "attachments": {},
      "cell_type": "markdown",
      "metadata": {
        "id": "xwCmI_Mb39L7"
      },
      "source": [
        "## **Data Transformation**"
      ]
    },
    {
      "attachments": {},
      "cell_type": "markdown",
      "metadata": {
        "id": "ktB9-0Te4H7y"
      },
      "source": [
        "** Data Wrangging **"
      ]
    },
    {
      "cell_type": "code",
      "execution_count": 27,
      "metadata": {
        "colab": {
          "base_uri": "https://localhost:8080/",
          "height": 206
        },
        "id": "CYVrsR1X4sJH",
        "outputId": "77f41703-fb3c-411d-9853-d93d25e937c6"
      },
      "outputs": [
        {
          "data": {
            "text/html": [
              "<div>\n",
              "<style scoped>\n",
              "    .dataframe tbody tr th:only-of-type {\n",
              "        vertical-align: middle;\n",
              "    }\n",
              "\n",
              "    .dataframe tbody tr th {\n",
              "        vertical-align: top;\n",
              "    }\n",
              "\n",
              "    .dataframe thead th {\n",
              "        text-align: right;\n",
              "    }\n",
              "</style>\n",
              "<table border=\"1\" class=\"dataframe\">\n",
              "  <thead>\n",
              "    <tr style=\"text-align: right;\">\n",
              "      <th></th>\n",
              "      <th>model</th>\n",
              "      <th>year</th>\n",
              "      <th>price</th>\n",
              "      <th>transmission</th>\n",
              "      <th>mileage</th>\n",
              "      <th>fuelType</th>\n",
              "      <th>tax</th>\n",
              "      <th>mpg</th>\n",
              "      <th>engineSize</th>\n",
              "      <th>automaker</th>\n",
              "      <th>ln_mileage</th>\n",
              "      <th>ln_mpg</th>\n",
              "    </tr>\n",
              "  </thead>\n",
              "  <tbody>\n",
              "    <tr>\n",
              "      <th>0</th>\n",
              "      <td>A1</td>\n",
              "      <td>2017</td>\n",
              "      <td>12500</td>\n",
              "      <td>Manual</td>\n",
              "      <td>15735</td>\n",
              "      <td>Petrol</td>\n",
              "      <td>150.0</td>\n",
              "      <td>55.4</td>\n",
              "      <td>1.4</td>\n",
              "      <td>audi</td>\n",
              "      <td>9.663643</td>\n",
              "      <td>4.014580</td>\n",
              "    </tr>\n",
              "    <tr>\n",
              "      <th>1</th>\n",
              "      <td>A6</td>\n",
              "      <td>2016</td>\n",
              "      <td>16500</td>\n",
              "      <td>Automatic</td>\n",
              "      <td>36203</td>\n",
              "      <td>Diesel</td>\n",
              "      <td>20.0</td>\n",
              "      <td>64.2</td>\n",
              "      <td>2.0</td>\n",
              "      <td>audi</td>\n",
              "      <td>10.496897</td>\n",
              "      <td>4.162003</td>\n",
              "    </tr>\n",
              "    <tr>\n",
              "      <th>2</th>\n",
              "      <td>A1</td>\n",
              "      <td>2016</td>\n",
              "      <td>11000</td>\n",
              "      <td>Manual</td>\n",
              "      <td>29946</td>\n",
              "      <td>Petrol</td>\n",
              "      <td>30.0</td>\n",
              "      <td>55.4</td>\n",
              "      <td>1.4</td>\n",
              "      <td>audi</td>\n",
              "      <td>10.307151</td>\n",
              "      <td>4.014580</td>\n",
              "    </tr>\n",
              "    <tr>\n",
              "      <th>3</th>\n",
              "      <td>A4</td>\n",
              "      <td>2017</td>\n",
              "      <td>16800</td>\n",
              "      <td>Automatic</td>\n",
              "      <td>25952</td>\n",
              "      <td>Diesel</td>\n",
              "      <td>145.0</td>\n",
              "      <td>67.3</td>\n",
              "      <td>2.0</td>\n",
              "      <td>audi</td>\n",
              "      <td>10.164004</td>\n",
              "      <td>4.209160</td>\n",
              "    </tr>\n",
              "    <tr>\n",
              "      <th>4</th>\n",
              "      <td>A3</td>\n",
              "      <td>2019</td>\n",
              "      <td>17300</td>\n",
              "      <td>Manual</td>\n",
              "      <td>1998</td>\n",
              "      <td>Petrol</td>\n",
              "      <td>145.0</td>\n",
              "      <td>49.6</td>\n",
              "      <td>1.0</td>\n",
              "      <td>audi</td>\n",
              "      <td>7.599902</td>\n",
              "      <td>3.903991</td>\n",
              "    </tr>\n",
              "  </tbody>\n",
              "</table>\n",
              "</div>"
            ],
            "text/plain": [
              "  model  year  price transmission  mileage fuelType    tax   mpg  engineSize  \\\n",
              "0    A1  2017  12500       Manual    15735   Petrol  150.0  55.4         1.4   \n",
              "1    A6  2016  16500    Automatic    36203   Diesel   20.0  64.2         2.0   \n",
              "2    A1  2016  11000       Manual    29946   Petrol   30.0  55.4         1.4   \n",
              "3    A4  2017  16800    Automatic    25952   Diesel  145.0  67.3         2.0   \n",
              "4    A3  2019  17300       Manual     1998   Petrol  145.0  49.6         1.0   \n",
              "\n",
              "  automaker  ln_mileage    ln_mpg  \n",
              "0      audi    9.663643  4.014580  \n",
              "1      audi   10.496897  4.162003  \n",
              "2      audi   10.307151  4.014580  \n",
              "3      audi   10.164004  4.209160  \n",
              "4      audi    7.599902  3.903991  "
            ]
          },
          "execution_count": 27,
          "metadata": {},
          "output_type": "execute_result"
        }
      ],
      "source": [
        "df.head()"
      ]
    },
    {
      "cell_type": "code",
      "execution_count": 28,
      "metadata": {
        "id": "OM8-qWS66A-A"
      },
      "outputs": [
        {
          "data": {
            "text/plain": [
              "Affordable    43195\n",
              "Luxury        34568\n",
              "Mid-range     26878\n",
              "Name: Class, dtype: int64"
            ]
          },
          "execution_count": 28,
          "metadata": {},
          "output_type": "execute_result"
        }
      ],
      "source": [
        "def fill_class(x):\n",
        "  if x in ('merc','audi','bmw'):\n",
        "    return \"Luxury\"\n",
        "  if x in ('vw','skoda','focus'):\n",
        "    return \"Mid-range\"\n",
        "  else:\n",
        "    return \"Affordable\"\n",
        "\n",
        "df['Class'] = df['automaker'].apply(lambda x: fill_class(x))\n",
        "df['Class'].value_counts()"
      ]
    },
    {
      "cell_type": "code",
      "execution_count": 29,
      "metadata": {
        "colab": {
          "base_uri": "https://localhost:8080/"
        },
        "id": "qe41O9x28YYC",
        "outputId": "fdb31b1d-7317-469d-ff49-37f511896317"
      },
      "outputs": [
        {
          "data": {
            "text/plain": [
              "count    104641.000000\n",
              "mean       2017.089066\n",
              "std           2.126373\n",
              "min        1970.000000\n",
              "25%        2016.000000\n",
              "50%        2017.000000\n",
              "75%        2019.000000\n",
              "max        2060.000000\n",
              "Name: year, dtype: float64"
            ]
          },
          "execution_count": 29,
          "metadata": {},
          "output_type": "execute_result"
        }
      ],
      "source": [
        "df['year'].describe()"
      ]
    },
    {
      "cell_type": "code",
      "execution_count": 30,
      "metadata": {
        "id": "br1dvxXC90Pt"
      },
      "outputs": [
        {
          "data": {
            "text/plain": [
              "2-4 năm       37751\n",
              "dưới 2 năm    32897\n",
              "hơn 5 năm     17590\n",
              "4-5 năm       16403\n",
              "Name: year, dtype: int64"
            ]
          },
          "execution_count": 30,
          "metadata": {},
          "output_type": "execute_result"
        }
      ],
      "source": [
        "\n",
        "df['year'] = pd.cut(df['year'],\n",
        "                    bins = [0, 2015.9, 2016.9, 2018.9, 2061],\n",
        "                    labels =['hơn 5 năm','4-5 năm','2-4 năm','dưới 2 năm'])\n",
        "df['year'].value_counts()"
      ]
    },
    {
      "cell_type": "code",
      "execution_count": 31,
      "metadata": {
        "colab": {
          "base_uri": "https://localhost:8080/"
        },
        "id": "wbZEaIyxCpUg",
        "outputId": "74c7c51f-655e-46be-c58e-517f31fdde59"
      },
      "outputs": [
        {
          "data": {
            "text/plain": [
              "count    104641.000000\n",
              "mean          1.647643\n",
              "std           0.554577\n",
              "min           0.000000\n",
              "25%           1.200000\n",
              "50%           1.500000\n",
              "75%           2.000000\n",
              "max           6.600000\n",
              "Name: engineSize, dtype: float64"
            ]
          },
          "execution_count": 31,
          "metadata": {},
          "output_type": "execute_result"
        }
      ],
      "source": [
        "df['engineSize'].describe()"
      ]
    },
    {
      "cell_type": "code",
      "execution_count": 32,
      "metadata": {
        "id": "JEc5esppFAdO"
      },
      "outputs": [],
      "source": [
        "df['engineSize'] = pd.cut(df['engineSize'],\n",
        "                    bins = [-1, df['engineSize'].quantile(0.25)-0.01, df['engineSize'].quantile(0.5)-0.01, df['engineSize'].quantile(0.75)-0.01, df['engineSize'].max()+0.01],\n",
        "                    labels =['Small','Medium','Large','Very Large'])"
      ]
    },
    {
      "cell_type": "code",
      "execution_count": 33,
      "metadata": {},
      "outputs": [
        {
          "data": {
            "text/plain": [
              "Very Large    39742\n",
              "Large         24753\n",
              "Small         20783\n",
              "Medium        19363\n",
              "Name: engineSize, dtype: int64"
            ]
          },
          "execution_count": 33,
          "metadata": {},
          "output_type": "execute_result"
        }
      ],
      "source": [
        "df['engineSize'].value_counts()"
      ]
    },
    {
      "cell_type": "code",
      "execution_count": 34,
      "metadata": {},
      "outputs": [
        {
          "data": {
            "text/html": [
              "<div>\n",
              "<style scoped>\n",
              "    .dataframe tbody tr th:only-of-type {\n",
              "        vertical-align: middle;\n",
              "    }\n",
              "\n",
              "    .dataframe tbody tr th {\n",
              "        vertical-align: top;\n",
              "    }\n",
              "\n",
              "    .dataframe thead th {\n",
              "        text-align: right;\n",
              "    }\n",
              "</style>\n",
              "<table border=\"1\" class=\"dataframe\">\n",
              "  <thead>\n",
              "    <tr style=\"text-align: right;\">\n",
              "      <th></th>\n",
              "      <th>model</th>\n",
              "      <th>year</th>\n",
              "      <th>price</th>\n",
              "      <th>transmission</th>\n",
              "      <th>mileage</th>\n",
              "      <th>fuelType</th>\n",
              "      <th>tax</th>\n",
              "      <th>mpg</th>\n",
              "      <th>engineSize</th>\n",
              "      <th>automaker</th>\n",
              "      <th>ln_mileage</th>\n",
              "      <th>ln_mpg</th>\n",
              "      <th>Class</th>\n",
              "    </tr>\n",
              "  </thead>\n",
              "  <tbody>\n",
              "    <tr>\n",
              "      <th>0</th>\n",
              "      <td>A1</td>\n",
              "      <td>2-4 năm</td>\n",
              "      <td>12500.0</td>\n",
              "      <td>Manual</td>\n",
              "      <td>15735</td>\n",
              "      <td>Petrol</td>\n",
              "      <td>150.000000</td>\n",
              "      <td>55.4</td>\n",
              "      <td>Medium</td>\n",
              "      <td>audi</td>\n",
              "      <td>9.663643</td>\n",
              "      <td>4.014580</td>\n",
              "      <td>Luxury</td>\n",
              "    </tr>\n",
              "    <tr>\n",
              "      <th>1</th>\n",
              "      <td>A6</td>\n",
              "      <td>4-5 năm</td>\n",
              "      <td>16500.0</td>\n",
              "      <td>Automatic</td>\n",
              "      <td>36203</td>\n",
              "      <td>Diesel</td>\n",
              "      <td>83.249594</td>\n",
              "      <td>64.2</td>\n",
              "      <td>Very Large</td>\n",
              "      <td>audi</td>\n",
              "      <td>10.496897</td>\n",
              "      <td>4.162003</td>\n",
              "      <td>Luxury</td>\n",
              "    </tr>\n",
              "    <tr>\n",
              "      <th>2</th>\n",
              "      <td>A1</td>\n",
              "      <td>4-5 năm</td>\n",
              "      <td>11000.0</td>\n",
              "      <td>Manual</td>\n",
              "      <td>29946</td>\n",
              "      <td>Petrol</td>\n",
              "      <td>83.249594</td>\n",
              "      <td>55.4</td>\n",
              "      <td>Medium</td>\n",
              "      <td>audi</td>\n",
              "      <td>10.307151</td>\n",
              "      <td>4.014580</td>\n",
              "      <td>Luxury</td>\n",
              "    </tr>\n",
              "    <tr>\n",
              "      <th>3</th>\n",
              "      <td>A4</td>\n",
              "      <td>2-4 năm</td>\n",
              "      <td>16800.0</td>\n",
              "      <td>Automatic</td>\n",
              "      <td>25952</td>\n",
              "      <td>Diesel</td>\n",
              "      <td>145.000000</td>\n",
              "      <td>67.3</td>\n",
              "      <td>Very Large</td>\n",
              "      <td>audi</td>\n",
              "      <td>10.164004</td>\n",
              "      <td>4.209160</td>\n",
              "      <td>Luxury</td>\n",
              "    </tr>\n",
              "    <tr>\n",
              "      <th>4</th>\n",
              "      <td>A3</td>\n",
              "      <td>dưới 2 năm</td>\n",
              "      <td>17300.0</td>\n",
              "      <td>Manual</td>\n",
              "      <td>1998</td>\n",
              "      <td>Petrol</td>\n",
              "      <td>145.000000</td>\n",
              "      <td>49.6</td>\n",
              "      <td>Small</td>\n",
              "      <td>audi</td>\n",
              "      <td>7.599902</td>\n",
              "      <td>3.903991</td>\n",
              "      <td>Luxury</td>\n",
              "    </tr>\n",
              "  </tbody>\n",
              "</table>\n",
              "</div>"
            ],
            "text/plain": [
              "  model        year    price transmission  mileage fuelType         tax   mpg  \\\n",
              "0    A1     2-4 năm  12500.0       Manual    15735   Petrol  150.000000  55.4   \n",
              "1    A6     4-5 năm  16500.0    Automatic    36203   Diesel   83.249594  64.2   \n",
              "2    A1     4-5 năm  11000.0       Manual    29946   Petrol   83.249594  55.4   \n",
              "3    A4     2-4 năm  16800.0    Automatic    25952   Diesel  145.000000  67.3   \n",
              "4    A3  dưới 2 năm  17300.0       Manual     1998   Petrol  145.000000  49.6   \n",
              "\n",
              "   engineSize automaker  ln_mileage    ln_mpg   Class  \n",
              "0      Medium      audi    9.663643  4.014580  Luxury  \n",
              "1  Very Large      audi   10.496897  4.162003  Luxury  \n",
              "2      Medium      audi   10.307151  4.014580  Luxury  \n",
              "3  Very Large      audi   10.164004  4.209160  Luxury  \n",
              "4       Small      audi    7.599902  3.903991  Luxury  "
            ]
          },
          "execution_count": 34,
          "metadata": {},
          "output_type": "execute_result"
        }
      ],
      "source": [
        "# xỬ LÝ Outlier\n",
        "cols = ['ln_mileage','tax','ln_mpg','price']\n",
        "for col in cols:\n",
        "    # Tính IQR của biến\n",
        "    Q1 = df[col].quantile(0.25)\n",
        "    Q3 = df[col].quantile(0.75)\n",
        "    IQR = Q3 - Q1\n",
        "\n",
        "    # Xác định ngưỡng trên và ngưỡng dưới\n",
        "    upper_threshold = Q3 + (1.5 * IQR)\n",
        "    lower_threshold = Q1 - (1.5 * IQR)\n",
        "\n",
        "    # Thay thế các giá trị outlier\n",
        "    df[col] = df[col].apply(lambda x: upper_threshold if x >= upper_threshold else (lower_threshold if x <= lower_threshold else x))\n",
        "df.head()"
      ]
    },
    {
      "attachments": {},
      "cell_type": "markdown",
      "metadata": {
        "id": "0lOI8zNYGnIL"
      },
      "source": [
        "** Chia tập dữ liệu X,y**"
      ]
    },
    {
      "cell_type": "code",
      "execution_count": 35,
      "metadata": {
        "id": "pBF2NQQxFjUm"
      },
      "outputs": [
        {
          "data": {
            "text/html": [
              "<div>\n",
              "<style scoped>\n",
              "    .dataframe tbody tr th:only-of-type {\n",
              "        vertical-align: middle;\n",
              "    }\n",
              "\n",
              "    .dataframe tbody tr th {\n",
              "        vertical-align: top;\n",
              "    }\n",
              "\n",
              "    .dataframe thead th {\n",
              "        text-align: right;\n",
              "    }\n",
              "</style>\n",
              "<table border=\"1\" class=\"dataframe\">\n",
              "  <thead>\n",
              "    <tr style=\"text-align: right;\">\n",
              "      <th></th>\n",
              "      <th>year</th>\n",
              "      <th>transmission</th>\n",
              "      <th>fuelType</th>\n",
              "      <th>engineSize</th>\n",
              "      <th>Class</th>\n",
              "      <th>ln_mileage</th>\n",
              "      <th>tax</th>\n",
              "      <th>ln_mpg</th>\n",
              "    </tr>\n",
              "  </thead>\n",
              "  <tbody>\n",
              "    <tr>\n",
              "      <th>0</th>\n",
              "      <td>2-4 năm</td>\n",
              "      <td>Manual</td>\n",
              "      <td>Petrol</td>\n",
              "      <td>Medium</td>\n",
              "      <td>Luxury</td>\n",
              "      <td>9.663643</td>\n",
              "      <td>150.000000</td>\n",
              "      <td>4.014580</td>\n",
              "    </tr>\n",
              "    <tr>\n",
              "      <th>1</th>\n",
              "      <td>4-5 năm</td>\n",
              "      <td>Automatic</td>\n",
              "      <td>Diesel</td>\n",
              "      <td>Very Large</td>\n",
              "      <td>Luxury</td>\n",
              "      <td>10.496897</td>\n",
              "      <td>83.249594</td>\n",
              "      <td>4.162003</td>\n",
              "    </tr>\n",
              "    <tr>\n",
              "      <th>2</th>\n",
              "      <td>4-5 năm</td>\n",
              "      <td>Manual</td>\n",
              "      <td>Petrol</td>\n",
              "      <td>Medium</td>\n",
              "      <td>Luxury</td>\n",
              "      <td>10.307151</td>\n",
              "      <td>83.249594</td>\n",
              "      <td>4.014580</td>\n",
              "    </tr>\n",
              "    <tr>\n",
              "      <th>3</th>\n",
              "      <td>2-4 năm</td>\n",
              "      <td>Automatic</td>\n",
              "      <td>Diesel</td>\n",
              "      <td>Very Large</td>\n",
              "      <td>Luxury</td>\n",
              "      <td>10.164004</td>\n",
              "      <td>145.000000</td>\n",
              "      <td>4.209160</td>\n",
              "    </tr>\n",
              "    <tr>\n",
              "      <th>4</th>\n",
              "      <td>dưới 2 năm</td>\n",
              "      <td>Manual</td>\n",
              "      <td>Petrol</td>\n",
              "      <td>Small</td>\n",
              "      <td>Luxury</td>\n",
              "      <td>7.599902</td>\n",
              "      <td>145.000000</td>\n",
              "      <td>3.903991</td>\n",
              "    </tr>\n",
              "    <tr>\n",
              "      <th>...</th>\n",
              "      <td>...</td>\n",
              "      <td>...</td>\n",
              "      <td>...</td>\n",
              "      <td>...</td>\n",
              "      <td>...</td>\n",
              "      <td>...</td>\n",
              "      <td>...</td>\n",
              "      <td>...</td>\n",
              "    </tr>\n",
              "    <tr>\n",
              "      <th>104636</th>\n",
              "      <td>hơn 5 năm</td>\n",
              "      <td>Manual</td>\n",
              "      <td>Diesel</td>\n",
              "      <td>Very Large</td>\n",
              "      <td>Mid-range</td>\n",
              "      <td>11.211820</td>\n",
              "      <td>125.000000</td>\n",
              "      <td>4.075841</td>\n",
              "    </tr>\n",
              "    <tr>\n",
              "      <th>104637</th>\n",
              "      <td>hơn 5 năm</td>\n",
              "      <td>Manual</td>\n",
              "      <td>Petrol</td>\n",
              "      <td>Medium</td>\n",
              "      <td>Mid-range</td>\n",
              "      <td>11.386251</td>\n",
              "      <td>145.000000</td>\n",
              "      <td>3.835142</td>\n",
              "    </tr>\n",
              "    <tr>\n",
              "      <th>104638</th>\n",
              "      <td>hơn 5 năm</td>\n",
              "      <td>Manual</td>\n",
              "      <td>Petrol</td>\n",
              "      <td>Medium</td>\n",
              "      <td>Mid-range</td>\n",
              "      <td>11.156251</td>\n",
              "      <td>182.050243</td>\n",
              "      <td>3.737670</td>\n",
              "    </tr>\n",
              "    <tr>\n",
              "      <th>104639</th>\n",
              "      <td>hơn 5 năm</td>\n",
              "      <td>Manual</td>\n",
              "      <td>Petrol</td>\n",
              "      <td>Medium</td>\n",
              "      <td>Mid-range</td>\n",
              "      <td>11.323023</td>\n",
              "      <td>150.000000</td>\n",
              "      <td>3.835142</td>\n",
              "    </tr>\n",
              "    <tr>\n",
              "      <th>104640</th>\n",
              "      <td>hơn 5 năm</td>\n",
              "      <td>Manual</td>\n",
              "      <td>Petrol</td>\n",
              "      <td>Medium</td>\n",
              "      <td>Mid-range</td>\n",
              "      <td>11.211820</td>\n",
              "      <td>145.000000</td>\n",
              "      <td>3.835142</td>\n",
              "    </tr>\n",
              "  </tbody>\n",
              "</table>\n",
              "<p>104641 rows × 8 columns</p>\n",
              "</div>"
            ],
            "text/plain": [
              "              year transmission fuelType  engineSize      Class  ln_mileage  \\\n",
              "0          2-4 năm       Manual   Petrol      Medium     Luxury    9.663643   \n",
              "1          4-5 năm    Automatic   Diesel  Very Large     Luxury   10.496897   \n",
              "2          4-5 năm       Manual   Petrol      Medium     Luxury   10.307151   \n",
              "3          2-4 năm    Automatic   Diesel  Very Large     Luxury   10.164004   \n",
              "4       dưới 2 năm       Manual   Petrol       Small     Luxury    7.599902   \n",
              "...            ...          ...      ...         ...        ...         ...   \n",
              "104636   hơn 5 năm       Manual   Diesel  Very Large  Mid-range   11.211820   \n",
              "104637   hơn 5 năm       Manual   Petrol      Medium  Mid-range   11.386251   \n",
              "104638   hơn 5 năm       Manual   Petrol      Medium  Mid-range   11.156251   \n",
              "104639   hơn 5 năm       Manual   Petrol      Medium  Mid-range   11.323023   \n",
              "104640   hơn 5 năm       Manual   Petrol      Medium  Mid-range   11.211820   \n",
              "\n",
              "               tax    ln_mpg  \n",
              "0       150.000000  4.014580  \n",
              "1        83.249594  4.162003  \n",
              "2        83.249594  4.014580  \n",
              "3       145.000000  4.209160  \n",
              "4       145.000000  3.903991  \n",
              "...            ...       ...  \n",
              "104636  125.000000  4.075841  \n",
              "104637  145.000000  3.835142  \n",
              "104638  182.050243  3.737670  \n",
              "104639  150.000000  3.835142  \n",
              "104640  145.000000  3.835142  \n",
              "\n",
              "[104641 rows x 8 columns]"
            ]
          },
          "execution_count": 35,
          "metadata": {},
          "output_type": "execute_result"
        }
      ],
      "source": [
        "cat_features = ['year','transmission','fuelType','engineSize','Class']\n",
        "num_features = ['ln_mileage','tax','ln_mpg']\n",
        "features = cat_features + num_features\n",
        "\n",
        "X = df[features].reset_index(drop=True)\n",
        "y = df['price'].reset_index(drop=True)\n",
        "X"
      ]
    },
    {
      "attachments": {},
      "cell_type": "markdown",
      "metadata": {
        "id": "sx2a99hB10Hq"
      },
      "source": [
        "** Chuẩn hóa và xử lý dữ liệu**"
      ]
    },
    {
      "cell_type": "code",
      "execution_count": 36,
      "metadata": {
        "colab": {
          "base_uri": "https://localhost:8080/",
          "height": 345
        },
        "id": "k6zg-rMS0U4N",
        "outputId": "c21ba108-169f-4cee-c36d-3c4a29382020"
      },
      "outputs": [
        {
          "data": {
            "text/plain": [
              "array([[ 0.09535196,  0.64768982,  0.16638162, ...,  0.        ,\n",
              "         1.        ,  0.        ],\n",
              "       [ 0.82469653, -1.70268063,  0.86618347, ...,  0.        ,\n",
              "         1.        ,  0.        ],\n",
              "       [ 0.65861235, -1.70268063,  0.16638162, ...,  0.        ,\n",
              "         1.        ,  0.        ],\n",
              "       ...,\n",
              "       [ 1.40182602,  1.77622147, -1.14807612, ...,  0.        ,\n",
              "         0.        ,  1.        ],\n",
              "       [ 1.54780157,  0.64768982, -0.68538685, ...,  0.        ,\n",
              "         0.        ,  1.        ],\n",
              "       [ 1.4504661 ,  0.47163318, -0.68538685, ...,  0.        ,\n",
              "         0.        ,  1.        ]])"
            ]
          },
          "execution_count": 36,
          "metadata": {},
          "output_type": "execute_result"
        }
      ],
      "source": [
        "from sklearn.compose import ColumnTransformer\n",
        "from sklearn.pipeline import Pipeline\n",
        "from sklearn.preprocessing import OneHotEncoder, StandardScaler\n",
        "\n",
        "#Đường ống \n",
        "num_transformer = Pipeline(steps = [\n",
        "    ('scaler', StandardScaler())\n",
        "])\n",
        "\n",
        "cat_transformer = Pipeline([\n",
        "    ('encoder',OneHotEncoder())\n",
        "])\n",
        "\n",
        "#Khai báo quá trình xử lý\n",
        "preprocessor = ColumnTransformer([\n",
        "    ('num',num_transformer,num_features),\n",
        "    ('cat',cat_transformer,cat_features),\n",
        "])\n",
        "\n",
        "#Fit và transform vào bộ dữ liệu\n",
        "X_transformed = preprocessor.fit_transform(X)\n",
        "X_transformed"
      ]
    },
    {
      "attachments": {},
      "cell_type": "markdown",
      "metadata": {
        "id": "r9Sdil8I4REo"
      },
      "source": [
        "**Chia tranning set và test set**"
      ]
    },
    {
      "cell_type": "code",
      "execution_count": 37,
      "metadata": {
        "id": "nCjJweEE4T9e"
      },
      "outputs": [
        {
          "data": {
            "text/plain": [
              "(83712, 20929)"
            ]
          },
          "execution_count": 37,
          "metadata": {},
          "output_type": "execute_result"
        }
      ],
      "source": [
        "#Chia bộ dữ liệu\n",
        "from sklearn.model_selection import train_test_split\n",
        "X_train, X_test, y_train, y_test = train_test_split(X_transformed,y, train_size = 0.8)\n",
        "len(X_train), len(X_test)"
      ]
    },
    {
      "attachments": {},
      "cell_type": "markdown",
      "metadata": {
        "id": "olLft5RW7P2o"
      },
      "source": [
        "# **Chạy mô hình**"
      ]
    },
    {
      "cell_type": "code",
      "execution_count": 38,
      "metadata": {
        "colab": {
          "base_uri": "https://localhost:8080/",
          "height": 75
        },
        "id": "8nd9Nu2-7RWB",
        "outputId": "65213ded-e39c-4356-cebd-80da61abf332"
      },
      "outputs": [
        {
          "data": {
            "text/html": [
              "<style>#sk-container-id-1 {color: black;background-color: white;}#sk-container-id-1 pre{padding: 0;}#sk-container-id-1 div.sk-toggleable {background-color: white;}#sk-container-id-1 label.sk-toggleable__label {cursor: pointer;display: block;width: 100%;margin-bottom: 0;padding: 0.3em;box-sizing: border-box;text-align: center;}#sk-container-id-1 label.sk-toggleable__label-arrow:before {content: \"▸\";float: left;margin-right: 0.25em;color: #696969;}#sk-container-id-1 label.sk-toggleable__label-arrow:hover:before {color: black;}#sk-container-id-1 div.sk-estimator:hover label.sk-toggleable__label-arrow:before {color: black;}#sk-container-id-1 div.sk-toggleable__content {max-height: 0;max-width: 0;overflow: hidden;text-align: left;background-color: #f0f8ff;}#sk-container-id-1 div.sk-toggleable__content pre {margin: 0.2em;color: black;border-radius: 0.25em;background-color: #f0f8ff;}#sk-container-id-1 input.sk-toggleable__control:checked~div.sk-toggleable__content {max-height: 200px;max-width: 100%;overflow: auto;}#sk-container-id-1 input.sk-toggleable__control:checked~label.sk-toggleable__label-arrow:before {content: \"▾\";}#sk-container-id-1 div.sk-estimator input.sk-toggleable__control:checked~label.sk-toggleable__label {background-color: #d4ebff;}#sk-container-id-1 div.sk-label input.sk-toggleable__control:checked~label.sk-toggleable__label {background-color: #d4ebff;}#sk-container-id-1 input.sk-hidden--visually {border: 0;clip: rect(1px 1px 1px 1px);clip: rect(1px, 1px, 1px, 1px);height: 1px;margin: -1px;overflow: hidden;padding: 0;position: absolute;width: 1px;}#sk-container-id-1 div.sk-estimator {font-family: monospace;background-color: #f0f8ff;border: 1px dotted black;border-radius: 0.25em;box-sizing: border-box;margin-bottom: 0.5em;}#sk-container-id-1 div.sk-estimator:hover {background-color: #d4ebff;}#sk-container-id-1 div.sk-parallel-item::after {content: \"\";width: 100%;border-bottom: 1px solid gray;flex-grow: 1;}#sk-container-id-1 div.sk-label:hover label.sk-toggleable__label {background-color: #d4ebff;}#sk-container-id-1 div.sk-serial::before {content: \"\";position: absolute;border-left: 1px solid gray;box-sizing: border-box;top: 0;bottom: 0;left: 50%;z-index: 0;}#sk-container-id-1 div.sk-serial {display: flex;flex-direction: column;align-items: center;background-color: white;padding-right: 0.2em;padding-left: 0.2em;position: relative;}#sk-container-id-1 div.sk-item {position: relative;z-index: 1;}#sk-container-id-1 div.sk-parallel {display: flex;align-items: stretch;justify-content: center;background-color: white;position: relative;}#sk-container-id-1 div.sk-item::before, #sk-container-id-1 div.sk-parallel-item::before {content: \"\";position: absolute;border-left: 1px solid gray;box-sizing: border-box;top: 0;bottom: 0;left: 50%;z-index: -1;}#sk-container-id-1 div.sk-parallel-item {display: flex;flex-direction: column;z-index: 1;position: relative;background-color: white;}#sk-container-id-1 div.sk-parallel-item:first-child::after {align-self: flex-end;width: 50%;}#sk-container-id-1 div.sk-parallel-item:last-child::after {align-self: flex-start;width: 50%;}#sk-container-id-1 div.sk-parallel-item:only-child::after {width: 0;}#sk-container-id-1 div.sk-dashed-wrapped {border: 1px dashed gray;margin: 0 0.4em 0.5em 0.4em;box-sizing: border-box;padding-bottom: 0.4em;background-color: white;}#sk-container-id-1 div.sk-label label {font-family: monospace;font-weight: bold;display: inline-block;line-height: 1.2em;}#sk-container-id-1 div.sk-label-container {text-align: center;}#sk-container-id-1 div.sk-container {/* jupyter's `normalize.less` sets `[hidden] { display: none; }` but bootstrap.min.css set `[hidden] { display: none !important; }` so we also need the `!important` here to be able to override the default hidden behavior on the sphinx rendered scikit-learn.org. See: https://github.com/scikit-learn/scikit-learn/issues/21755 */display: inline-block !important;position: relative;}#sk-container-id-1 div.sk-text-repr-fallback {display: none;}</style><div id=\"sk-container-id-1\" class=\"sk-top-container\"><div class=\"sk-text-repr-fallback\"><pre>LinearRegression()</pre><b>In a Jupyter environment, please rerun this cell to show the HTML representation or trust the notebook. <br />On GitHub, the HTML representation is unable to render, please try loading this page with nbviewer.org.</b></div><div class=\"sk-container\" hidden><div class=\"sk-item\"><div class=\"sk-estimator sk-toggleable\"><input class=\"sk-toggleable__control sk-hidden--visually\" id=\"sk-estimator-id-1\" type=\"checkbox\" checked><label for=\"sk-estimator-id-1\" class=\"sk-toggleable__label sk-toggleable__label-arrow\">LinearRegression</label><div class=\"sk-toggleable__content\"><pre>LinearRegression()</pre></div></div></div></div></div>"
            ],
            "text/plain": [
              "LinearRegression()"
            ]
          },
          "execution_count": 38,
          "metadata": {},
          "output_type": "execute_result"
        }
      ],
      "source": [
        "from sklearn import linear_model\n",
        "from sklearn.metrics import mean_squared_error\n",
        "from sklearn.metrics import r2_score\n",
        "#Khai báo mô hình\n",
        "linear_regression = linear_model.LinearRegression()\n",
        "\n",
        "#Huấn luyện mô hình\n",
        "linear_regression.fit(X_train, y_train)\n",
        "\n",
        "\n"
      ]
    },
    {
      "cell_type": "code",
      "execution_count": 39,
      "metadata": {
        "colab": {
          "base_uri": "https://localhost:8080/"
        },
        "id": "VIsNHdoLwVGu",
        "outputId": "168523ca-38d0-4e13-8e0d-038ca8820eed"
      },
      "outputs": [
        {
          "name": "stdout",
          "output_type": "stream",
          "text": [
            "R2 Score: 0.8233001346790821\n"
          ]
        }
      ],
      "source": [
        "y_pred = linear_regression.predict(X_test)\n",
        "r2 = r2_score(y_test, y_pred)\n",
        "print('R2 Score:',r2)"
      ]
    },
    {
      "cell_type": "code",
      "execution_count": 40,
      "metadata": {
        "colab": {
          "base_uri": "https://localhost:8080/"
        },
        "id": "MRz4NY0bxPgZ",
        "outputId": "6c11ee35-475d-4ffc-c0b2-bec465a5bc61"
      },
      "outputs": [
        {
          "name": "stdout",
          "output_type": "stream",
          "text": [
            "MSE: 11059901.904319365\n",
            "RMSE: 3325.643081318163\n"
          ]
        }
      ],
      "source": [
        "mse = mean_squared_error(y_test, y_pred)\n",
        "rmse = np.sqrt(mse)\n",
        "print('MSE:',mse)\n",
        "print('RMSE:',rmse)"
      ]
    },
    {
      "cell_type": "code",
      "execution_count": 113,
      "metadata": {
        "colab": {
          "base_uri": "https://localhost:8080/",
          "height": 539
        },
        "id": "bYfRPuF3x9fJ",
        "outputId": "af99b456-f02c-4331-92c6-d52219868e00"
      },
      "outputs": [
        {
          "data": {
            "image/png": "[encoded data removed]",
            "text/plain": [
              "<Figure size 800x550 with 1 Axes>"
            ]
          },
          "metadata": {},
          "output_type": "display_data"
        }
      ],
      "source": [
        "y_pred = linear_regression.predict(X_test)\n",
        "residuals = y_test - y_pred\n",
        "plt.scatter(y_pred, residuals)\n",
        "plt.axhline(y=0, color='r', linestyle='--')\n",
        "plt.xlabel(\"Predicted Values\")\n",
        "plt.ylabel(\"Residuals\")\n",
        "plt.title(\"Residual Plot\")\n",
        "plt.show()"
      ]
    },
    {
      "attachments": {},
      "cell_type": "markdown",
      "metadata": {
        "id": "oyb4vBICKkVh"
      },
      "source": [
        "# **Dự báo**"
      ]
    },
    {
      "cell_type": "code",
      "execution_count": 41,
      "metadata": {
        "colab": {
          "base_uri": "https://localhost:8080/"
        },
        "id": "mmwgaW_a6Jl3",
        "outputId": "3bfea918-2616-4307-8a4a-ab38c40b061e"
      },
      "outputs": [
        {
          "name": "stdout",
          "output_type": "stream",
          "text": [
            "Intercept: 1.5747576166160984e+16\n",
            "Coefficients: [-1.77332162e+03 -4.96985530e+02 -2.51837626e+03  1.03912893e+16\n",
            "  1.03912893e+16  1.03912893e+16  1.03912893e+16 -4.19545309e+15\n",
            " -4.19545309e+15 -4.19545309e+15 -4.19545309e+15  2.71494193e+14\n",
            "  2.71494193e+14  2.71494193e+14  2.71494193e+14  2.71494193e+14\n",
            " -8.72137480e+14 -8.72137480e+14 -8.72137480e+14 -8.72137480e+14\n",
            " -2.13427690e+16 -2.13427690e+16 -2.13427690e+16]\n"
          ]
        }
      ],
      "source": [
        "# Hiển thị các tham số ước lượng\n",
        "\n",
        "print(\"Intercept:\", linear_regression.intercept_)\n",
        "print(\"Coefficients:\", linear_regression.coef_)"
      ]
    },
    {
      "cell_type": "code",
      "execution_count": 42,
      "metadata": {
        "id": "1yDvTjnyVYx5"
      },
      "outputs": [],
      "source": [
        "intercept = linear_regression.intercept_\n",
        "coef = linear_regression.coef_"
      ]
    },
    {
      "cell_type": "code",
      "execution_count": 45,
      "metadata": {
        "colab": {
          "base_uri": "https://localhost:8080/"
        },
        "id": "Qv-EpTtC2shd",
        "outputId": "1460927b-9f8f-4915-b686-2b92dd99c686"
      },
      "outputs": [
        {
          "data": {
            "text/plain": [
              "array([12046.,  9656., 10096., ..., 13976., 12304., 12488.])"
            ]
          },
          "execution_count": 45,
          "metadata": {},
          "output_type": "execute_result"
        }
      ],
      "source": [
        "y_pred = linear_regression.predict(X_test)\n",
        "y_pred\n"
      ]
    },
    {
      "cell_type": "code",
      "execution_count": 46,
      "metadata": {},
      "outputs": [
        {
          "data": {
            "text/plain": [
              "59837     12999.0\n",
              "102180     8890.0\n",
              "48675      7495.0\n",
              "71136      8000.0\n",
              "23442      7800.0\n",
              "           ...   \n",
              "25663      7700.0\n",
              "101944     8701.0\n",
              "85904     11299.0\n",
              "90154     17780.0\n",
              "49962      9995.0\n",
              "Name: price, Length: 20929, dtype: float64"
            ]
          },
          "execution_count": 46,
          "metadata": {},
          "output_type": "execute_result"
        }
      ],
      "source": [
        "y_test"
      ]
    },
    {
      "attachments": {},
      "cell_type": "markdown",
      "metadata": {},
      "source": [
        "** Viết 1 đoạn script chuyển đổi từ dữ liệu nhập từ bên ngoài sang dữ liệu được dùng trong mô hình**"
      ]
    },
    {
      "cell_type": "code",
      "execution_count": null,
      "metadata": {
        "colab": {
          "base_uri": "https://localhost:8080/"
        },
        "id": "RlaUmplq9Run",
        "outputId": "01f4ac3c-9901-4540-f717-c1c3c2c607d5"
      },
      "outputs": [],
      "source": [
        "#Import thư viện\n",
        "import pandas as pd\n",
        "import numpy as np\n",
        "from datetime import date\n",
        "from sklearn.compose import ColumnTransformer\n",
        "from sklearn.pipeline import Pipeline\n",
        "from sklearn.preprocessing import OneHotEncoder, StandardScaler\n",
        "\n",
        "#Hàm đổi dữ liệu năm\n",
        "def fill_year(year):\n",
        "  year_today = date.today().year\n",
        "  if year <= year_today-2:\n",
        "    return 'dưới 2 năm'\n",
        "  elif year <= year_today - 4:\n",
        "    return '2-4 năm'\n",
        "  elif year <= year_today - 5:\n",
        "    return '4-5 năm'\n",
        "  else:\n",
        "    return 'hơn 5 năm'\n",
        "\n",
        "#Hàm đổi dữ liệu dung tích động cơ\n",
        "def fill_engineSize(x):\n",
        "  if x < 1.2:\n",
        "    return 'Small'\n",
        "  elif x < 1.5:\n",
        "    return 'Medium'\n",
        "  elif x < 2:\n",
        "    return 'Large'\n",
        "  else:\n",
        "    return 'Very Large'\n",
        "\n",
        "#Hàm đổi dữ liệu hãng xe\n",
        "def fill_class(x):\n",
        "  if x in ('merc','audi','bmw'):\n",
        "    return \"Luxury\"\n",
        "  if x in ('vw','skoda','focus'):\n",
        "    return \"Mid-range\"\n",
        "  else:\n",
        "    return \"Affordable\"\n",
        "\n",
        "#Hàm chuyển dữ liệu từ từ form nhập thành dữ liệu được chuẩn hóa\n",
        "def from_df_to_X(year, transmission, mileage, fuelType, tax, mpg, engineSize):\n",
        "  Class = fill_class(automaker)\n",
        "  year = fill_year(year)\n",
        "  ln_mpg = math.log(float(mpg))\n",
        "  ln_mileage = math.log(float(mileage))\n",
        "  engineSize = fill_engineSize(engineSize)\n",
        "  data = {'year': [year],\n",
        "          'transmission': [transmission],\n",
        "          'fuelType': [fuelType],\n",
        "          'engineSize': [engineSize],\n",
        "          'Class': [Class],\n",
        "          'ln_mileage': [ln_mileage],\n",
        "          'tax': [tax],\n",
        "          'ln_mpg': [ln_mpg]\n",
        "          }\n",
        "  X = pd.DataFrame(data=data)\n",
        "  return X\n",
        "\n",
        "#Hàm chuyển tự dữ liệu chuẩn hóa thành dữ liệu dùng trong mô hình\n",
        "def from_X_to_X_transformed(X_new):\n",
        "  cat_features = ['year','transmission','fuelType','engineSize','Class']\n",
        "  num_features = ['ln_mileage','tax','ln_mpg']\n",
        "  for cat_feature in cat_features:\n",
        "    X_new[cat_feature] = X_new[cat_feature].astype('category')\n",
        "  features = cat_features + num_features\n",
        "\n",
        "  #Fit và transform vào bộ dữ liệu\n",
        "  X_new_transformed = preprocessor.transform(X_new)\n",
        "  return X_new_transformed\n",
        "\n",
        "#Lấy dữ liệu từ form nhập\n",
        "year = int(input('Year: '))\n",
        "transmission = input('Chosse one(Manual, Semi-Auto, ...): ')\n",
        "mileage = input('Mileage: ')\n",
        "fuelType = input('Chosse one(Petrol, Diesel, ...): ')\n",
        "tax = int(input('Tax: '))\n",
        "mpg = input('Mpg: ')\n",
        "engineSize = float(input('engineSize: '))\n",
        "automaker = input('Automaker: ')\n",
        "X_new = from_df_to_X(year, transmission, mileage, fuelType, tax, mpg, engineSize)\n",
        "X_new_transformed = from_X_to_X_transformed(X_new)\n",
        "print(X_new_transformed)"
      ]
    },
    {
      "attachments": {},
      "cell_type": "markdown",
      "metadata": {
        "id": "xr05MFjqjs4Y"
      },
      "source": [
        "# Mô hình OLS"
      ]
    },
    {
      "cell_type": "code",
      "execution_count": 59,
      "metadata": {},
      "outputs": [],
      "source": [
        "import statsmodels.api as sm"
      ]
    },
    {
      "cell_type": "code",
      "execution_count": null,
      "metadata": {},
      "outputs": [],
      "source": [
        "X = sm.add_constant(X)"
      ]
    },
    {
      "cell_type": "code",
      "execution_count": 50,
      "metadata": {},
      "outputs": [
        {
          "data": {
            "text/html": [
              "<div>\n",
              "<style scoped>\n",
              "    .dataframe tbody tr th:only-of-type {\n",
              "        vertical-align: middle;\n",
              "    }\n",
              "\n",
              "    .dataframe tbody tr th {\n",
              "        vertical-align: top;\n",
              "    }\n",
              "\n",
              "    .dataframe thead th {\n",
              "        text-align: right;\n",
              "    }\n",
              "</style>\n",
              "<table border=\"1\" class=\"dataframe\">\n",
              "  <thead>\n",
              "    <tr style=\"text-align: right;\">\n",
              "      <th></th>\n",
              "      <th>year</th>\n",
              "      <th>transmission</th>\n",
              "      <th>fuelType</th>\n",
              "      <th>engineSize</th>\n",
              "      <th>Class</th>\n",
              "      <th>ln_mileage</th>\n",
              "      <th>tax</th>\n",
              "      <th>ln_mpg</th>\n",
              "      <th>2-4 năm</th>\n",
              "      <th>4-5 năm</th>\n",
              "      <th>...</th>\n",
              "      <th>Diesel</th>\n",
              "      <th>Hybrid</th>\n",
              "      <th>Electric</th>\n",
              "      <th>Medium</th>\n",
              "      <th>Very Large</th>\n",
              "      <th>Small</th>\n",
              "      <th>Large</th>\n",
              "      <th>Luxury</th>\n",
              "      <th>Mid-range</th>\n",
              "      <th>Affordable</th>\n",
              "    </tr>\n",
              "  </thead>\n",
              "  <tbody>\n",
              "    <tr>\n",
              "      <th>0</th>\n",
              "      <td>2-4 năm</td>\n",
              "      <td>Manual</td>\n",
              "      <td>Petrol</td>\n",
              "      <td>Medium</td>\n",
              "      <td>Luxury</td>\n",
              "      <td>9.663643</td>\n",
              "      <td>150.000000</td>\n",
              "      <td>4.014580</td>\n",
              "      <td>1</td>\n",
              "      <td>0</td>\n",
              "      <td>...</td>\n",
              "      <td>0</td>\n",
              "      <td>0</td>\n",
              "      <td>0</td>\n",
              "      <td>0</td>\n",
              "      <td>0</td>\n",
              "      <td>0</td>\n",
              "      <td>0</td>\n",
              "      <td>1</td>\n",
              "      <td>0</td>\n",
              "      <td>0</td>\n",
              "    </tr>\n",
              "    <tr>\n",
              "      <th>1</th>\n",
              "      <td>4-5 năm</td>\n",
              "      <td>Automatic</td>\n",
              "      <td>Diesel</td>\n",
              "      <td>Very Large</td>\n",
              "      <td>Luxury</td>\n",
              "      <td>10.496897</td>\n",
              "      <td>83.249594</td>\n",
              "      <td>4.162003</td>\n",
              "      <td>0</td>\n",
              "      <td>1</td>\n",
              "      <td>...</td>\n",
              "      <td>1</td>\n",
              "      <td>0</td>\n",
              "      <td>0</td>\n",
              "      <td>0</td>\n",
              "      <td>1</td>\n",
              "      <td>0</td>\n",
              "      <td>0</td>\n",
              "      <td>1</td>\n",
              "      <td>0</td>\n",
              "      <td>0</td>\n",
              "    </tr>\n",
              "    <tr>\n",
              "      <th>2</th>\n",
              "      <td>4-5 năm</td>\n",
              "      <td>Manual</td>\n",
              "      <td>Petrol</td>\n",
              "      <td>Medium</td>\n",
              "      <td>Luxury</td>\n",
              "      <td>10.307151</td>\n",
              "      <td>83.249594</td>\n",
              "      <td>4.014580</td>\n",
              "      <td>0</td>\n",
              "      <td>1</td>\n",
              "      <td>...</td>\n",
              "      <td>0</td>\n",
              "      <td>0</td>\n",
              "      <td>0</td>\n",
              "      <td>0</td>\n",
              "      <td>0</td>\n",
              "      <td>0</td>\n",
              "      <td>0</td>\n",
              "      <td>1</td>\n",
              "      <td>0</td>\n",
              "      <td>0</td>\n",
              "    </tr>\n",
              "    <tr>\n",
              "      <th>3</th>\n",
              "      <td>2-4 năm</td>\n",
              "      <td>Automatic</td>\n",
              "      <td>Diesel</td>\n",
              "      <td>Very Large</td>\n",
              "      <td>Luxury</td>\n",
              "      <td>10.164004</td>\n",
              "      <td>145.000000</td>\n",
              "      <td>4.209160</td>\n",
              "      <td>1</td>\n",
              "      <td>0</td>\n",
              "      <td>...</td>\n",
              "      <td>1</td>\n",
              "      <td>0</td>\n",
              "      <td>0</td>\n",
              "      <td>0</td>\n",
              "      <td>1</td>\n",
              "      <td>0</td>\n",
              "      <td>0</td>\n",
              "      <td>1</td>\n",
              "      <td>0</td>\n",
              "      <td>0</td>\n",
              "    </tr>\n",
              "    <tr>\n",
              "      <th>4</th>\n",
              "      <td>dưới 2 năm</td>\n",
              "      <td>Manual</td>\n",
              "      <td>Petrol</td>\n",
              "      <td>Small</td>\n",
              "      <td>Luxury</td>\n",
              "      <td>7.599902</td>\n",
              "      <td>145.000000</td>\n",
              "      <td>3.903991</td>\n",
              "      <td>0</td>\n",
              "      <td>0</td>\n",
              "      <td>...</td>\n",
              "      <td>0</td>\n",
              "      <td>0</td>\n",
              "      <td>0</td>\n",
              "      <td>0</td>\n",
              "      <td>0</td>\n",
              "      <td>1</td>\n",
              "      <td>0</td>\n",
              "      <td>1</td>\n",
              "      <td>0</td>\n",
              "      <td>0</td>\n",
              "    </tr>\n",
              "    <tr>\n",
              "      <th>...</th>\n",
              "      <td>...</td>\n",
              "      <td>...</td>\n",
              "      <td>...</td>\n",
              "      <td>...</td>\n",
              "      <td>...</td>\n",
              "      <td>...</td>\n",
              "      <td>...</td>\n",
              "      <td>...</td>\n",
              "      <td>...</td>\n",
              "      <td>...</td>\n",
              "      <td>...</td>\n",
              "      <td>...</td>\n",
              "      <td>...</td>\n",
              "      <td>...</td>\n",
              "      <td>...</td>\n",
              "      <td>...</td>\n",
              "      <td>...</td>\n",
              "      <td>...</td>\n",
              "      <td>...</td>\n",
              "      <td>...</td>\n",
              "      <td>...</td>\n",
              "    </tr>\n",
              "    <tr>\n",
              "      <th>104636</th>\n",
              "      <td>hơn 5 năm</td>\n",
              "      <td>Manual</td>\n",
              "      <td>Diesel</td>\n",
              "      <td>Very Large</td>\n",
              "      <td>Mid-range</td>\n",
              "      <td>11.211820</td>\n",
              "      <td>125.000000</td>\n",
              "      <td>4.075841</td>\n",
              "      <td>0</td>\n",
              "      <td>0</td>\n",
              "      <td>...</td>\n",
              "      <td>1</td>\n",
              "      <td>0</td>\n",
              "      <td>0</td>\n",
              "      <td>0</td>\n",
              "      <td>1</td>\n",
              "      <td>0</td>\n",
              "      <td>0</td>\n",
              "      <td>0</td>\n",
              "      <td>0</td>\n",
              "      <td>0</td>\n",
              "    </tr>\n",
              "    <tr>\n",
              "      <th>104637</th>\n",
              "      <td>hơn 5 năm</td>\n",
              "      <td>Manual</td>\n",
              "      <td>Petrol</td>\n",
              "      <td>Medium</td>\n",
              "      <td>Mid-range</td>\n",
              "      <td>11.386251</td>\n",
              "      <td>145.000000</td>\n",
              "      <td>3.835142</td>\n",
              "      <td>0</td>\n",
              "      <td>0</td>\n",
              "      <td>...</td>\n",
              "      <td>0</td>\n",
              "      <td>0</td>\n",
              "      <td>0</td>\n",
              "      <td>0</td>\n",
              "      <td>0</td>\n",
              "      <td>0</td>\n",
              "      <td>0</td>\n",
              "      <td>0</td>\n",
              "      <td>0</td>\n",
              "      <td>0</td>\n",
              "    </tr>\n",
              "    <tr>\n",
              "      <th>104638</th>\n",
              "      <td>hơn 5 năm</td>\n",
              "      <td>Manual</td>\n",
              "      <td>Petrol</td>\n",
              "      <td>Medium</td>\n",
              "      <td>Mid-range</td>\n",
              "      <td>11.156251</td>\n",
              "      <td>182.050243</td>\n",
              "      <td>3.737670</td>\n",
              "      <td>0</td>\n",
              "      <td>0</td>\n",
              "      <td>...</td>\n",
              "      <td>0</td>\n",
              "      <td>0</td>\n",
              "      <td>0</td>\n",
              "      <td>0</td>\n",
              "      <td>0</td>\n",
              "      <td>0</td>\n",
              "      <td>0</td>\n",
              "      <td>0</td>\n",
              "      <td>0</td>\n",
              "      <td>0</td>\n",
              "    </tr>\n",
              "    <tr>\n",
              "      <th>104639</th>\n",
              "      <td>hơn 5 năm</td>\n",
              "      <td>Manual</td>\n",
              "      <td>Petrol</td>\n",
              "      <td>Medium</td>\n",
              "      <td>Mid-range</td>\n",
              "      <td>11.323023</td>\n",
              "      <td>150.000000</td>\n",
              "      <td>3.835142</td>\n",
              "      <td>0</td>\n",
              "      <td>0</td>\n",
              "      <td>...</td>\n",
              "      <td>0</td>\n",
              "      <td>0</td>\n",
              "      <td>0</td>\n",
              "      <td>0</td>\n",
              "      <td>0</td>\n",
              "      <td>0</td>\n",
              "      <td>0</td>\n",
              "      <td>0</td>\n",
              "      <td>0</td>\n",
              "      <td>0</td>\n",
              "    </tr>\n",
              "    <tr>\n",
              "      <th>104640</th>\n",
              "      <td>hơn 5 năm</td>\n",
              "      <td>Manual</td>\n",
              "      <td>Petrol</td>\n",
              "      <td>Medium</td>\n",
              "      <td>Mid-range</td>\n",
              "      <td>11.211820</td>\n",
              "      <td>145.000000</td>\n",
              "      <td>3.835142</td>\n",
              "      <td>0</td>\n",
              "      <td>0</td>\n",
              "      <td>...</td>\n",
              "      <td>0</td>\n",
              "      <td>0</td>\n",
              "      <td>0</td>\n",
              "      <td>0</td>\n",
              "      <td>0</td>\n",
              "      <td>0</td>\n",
              "      <td>0</td>\n",
              "      <td>0</td>\n",
              "      <td>0</td>\n",
              "      <td>0</td>\n",
              "    </tr>\n",
              "  </tbody>\n",
              "</table>\n",
              "<p>104641 rows × 27 columns</p>\n",
              "</div>"
            ],
            "text/plain": [
              "              year transmission fuelType  engineSize      Class  ln_mileage  \\\n",
              "0          2-4 năm       Manual   Petrol      Medium     Luxury    9.663643   \n",
              "1          4-5 năm    Automatic   Diesel  Very Large     Luxury   10.496897   \n",
              "2          4-5 năm       Manual   Petrol      Medium     Luxury   10.307151   \n",
              "3          2-4 năm    Automatic   Diesel  Very Large     Luxury   10.164004   \n",
              "4       dưới 2 năm       Manual   Petrol       Small     Luxury    7.599902   \n",
              "...            ...          ...      ...         ...        ...         ...   \n",
              "104636   hơn 5 năm       Manual   Diesel  Very Large  Mid-range   11.211820   \n",
              "104637   hơn 5 năm       Manual   Petrol      Medium  Mid-range   11.386251   \n",
              "104638   hơn 5 năm       Manual   Petrol      Medium  Mid-range   11.156251   \n",
              "104639   hơn 5 năm       Manual   Petrol      Medium  Mid-range   11.323023   \n",
              "104640   hơn 5 năm       Manual   Petrol      Medium  Mid-range   11.211820   \n",
              "\n",
              "               tax    ln_mpg  2-4 năm  4-5 năm  ...  Diesel  Hybrid  Electric  \\\n",
              "0       150.000000  4.014580        1        0  ...       0       0         0   \n",
              "1        83.249594  4.162003        0        1  ...       1       0         0   \n",
              "2        83.249594  4.014580        0        1  ...       0       0         0   \n",
              "3       145.000000  4.209160        1        0  ...       1       0         0   \n",
              "4       145.000000  3.903991        0        0  ...       0       0         0   \n",
              "...            ...       ...      ...      ...  ...     ...     ...       ...   \n",
              "104636  125.000000  4.075841        0        0  ...       1       0         0   \n",
              "104637  145.000000  3.835142        0        0  ...       0       0         0   \n",
              "104638  182.050243  3.737670        0        0  ...       0       0         0   \n",
              "104639  150.000000  3.835142        0        0  ...       0       0         0   \n",
              "104640  145.000000  3.835142        0        0  ...       0       0         0   \n",
              "\n",
              "        Medium  Very Large  Small  Large  Luxury  Mid-range  Affordable  \n",
              "0            0           0      0      0       1          0           0  \n",
              "1            0           1      0      0       1          0           0  \n",
              "2            0           0      0      0       1          0           0  \n",
              "3            0           1      0      0       1          0           0  \n",
              "4            0           0      1      0       1          0           0  \n",
              "...        ...         ...    ...    ...     ...        ...         ...  \n",
              "104636       0           1      0      0       0          0           0  \n",
              "104637       0           0      0      0       0          0           0  \n",
              "104638       0           0      0      0       0          0           0  \n",
              "104639       0           0      0      0       0          0           0  \n",
              "104640       0           0      0      0       0          0           0  \n",
              "\n",
              "[104641 rows x 27 columns]"
            ]
          },
          "execution_count": 50,
          "metadata": {},
          "output_type": "execute_result"
        }
      ],
      "source": [
        "#Mã hóa các cột category\n",
        "# Thực hiện encode cho các cột categorical\n",
        "X['price'] = y\n",
        "cat_cols = ['year', 'transmission','fuelType','engineSize','Class']\n",
        "for cat_col in cat_cols:\n",
        "    min_value = X.groupby(cat_col)['price'].sum().sort_values().index[0]\n",
        "    values = X[cat_col].unique()\n",
        "    for value in values:\n",
        "        X[value] = X[cat_col].apply(lambda x: 0 if x == min_value else (1 if x == value else 0))\n",
        "del X['price']\n",
        "X  "
      ]
    },
    {
      "cell_type": "code",
      "execution_count": 51,
      "metadata": {},
      "outputs": [
        {
          "data": {
            "text/html": [
              "<div>\n",
              "<style scoped>\n",
              "    .dataframe tbody tr th:only-of-type {\n",
              "        vertical-align: middle;\n",
              "    }\n",
              "\n",
              "    .dataframe tbody tr th {\n",
              "        vertical-align: top;\n",
              "    }\n",
              "\n",
              "    .dataframe thead th {\n",
              "        text-align: right;\n",
              "    }\n",
              "</style>\n",
              "<table border=\"1\" class=\"dataframe\">\n",
              "  <thead>\n",
              "    <tr style=\"text-align: right;\">\n",
              "      <th></th>\n",
              "      <th>ln_mileage</th>\n",
              "      <th>tax</th>\n",
              "      <th>ln_mpg</th>\n",
              "      <th>2-4 năm</th>\n",
              "      <th>4-5 năm</th>\n",
              "      <th>dưới 2 năm</th>\n",
              "      <th>hơn 5 năm</th>\n",
              "      <th>Manual</th>\n",
              "      <th>Automatic</th>\n",
              "      <th>Semi-Auto</th>\n",
              "      <th>...</th>\n",
              "      <th>Diesel</th>\n",
              "      <th>Hybrid</th>\n",
              "      <th>Electric</th>\n",
              "      <th>Medium</th>\n",
              "      <th>Very Large</th>\n",
              "      <th>Small</th>\n",
              "      <th>Large</th>\n",
              "      <th>Luxury</th>\n",
              "      <th>Mid-range</th>\n",
              "      <th>Affordable</th>\n",
              "    </tr>\n",
              "  </thead>\n",
              "  <tbody>\n",
              "    <tr>\n",
              "      <th>0</th>\n",
              "      <td>9.663643</td>\n",
              "      <td>150.000000</td>\n",
              "      <td>4.014580</td>\n",
              "      <td>1</td>\n",
              "      <td>0</td>\n",
              "      <td>0</td>\n",
              "      <td>0</td>\n",
              "      <td>1</td>\n",
              "      <td>0</td>\n",
              "      <td>0</td>\n",
              "      <td>...</td>\n",
              "      <td>0</td>\n",
              "      <td>0</td>\n",
              "      <td>0</td>\n",
              "      <td>0</td>\n",
              "      <td>0</td>\n",
              "      <td>0</td>\n",
              "      <td>0</td>\n",
              "      <td>1</td>\n",
              "      <td>0</td>\n",
              "      <td>0</td>\n",
              "    </tr>\n",
              "    <tr>\n",
              "      <th>1</th>\n",
              "      <td>10.496897</td>\n",
              "      <td>83.249594</td>\n",
              "      <td>4.162003</td>\n",
              "      <td>0</td>\n",
              "      <td>1</td>\n",
              "      <td>0</td>\n",
              "      <td>0</td>\n",
              "      <td>0</td>\n",
              "      <td>1</td>\n",
              "      <td>0</td>\n",
              "      <td>...</td>\n",
              "      <td>1</td>\n",
              "      <td>0</td>\n",
              "      <td>0</td>\n",
              "      <td>0</td>\n",
              "      <td>1</td>\n",
              "      <td>0</td>\n",
              "      <td>0</td>\n",
              "      <td>1</td>\n",
              "      <td>0</td>\n",
              "      <td>0</td>\n",
              "    </tr>\n",
              "    <tr>\n",
              "      <th>2</th>\n",
              "      <td>10.307151</td>\n",
              "      <td>83.249594</td>\n",
              "      <td>4.014580</td>\n",
              "      <td>0</td>\n",
              "      <td>1</td>\n",
              "      <td>0</td>\n",
              "      <td>0</td>\n",
              "      <td>1</td>\n",
              "      <td>0</td>\n",
              "      <td>0</td>\n",
              "      <td>...</td>\n",
              "      <td>0</td>\n",
              "      <td>0</td>\n",
              "      <td>0</td>\n",
              "      <td>0</td>\n",
              "      <td>0</td>\n",
              "      <td>0</td>\n",
              "      <td>0</td>\n",
              "      <td>1</td>\n",
              "      <td>0</td>\n",
              "      <td>0</td>\n",
              "    </tr>\n",
              "    <tr>\n",
              "      <th>3</th>\n",
              "      <td>10.164004</td>\n",
              "      <td>145.000000</td>\n",
              "      <td>4.209160</td>\n",
              "      <td>1</td>\n",
              "      <td>0</td>\n",
              "      <td>0</td>\n",
              "      <td>0</td>\n",
              "      <td>0</td>\n",
              "      <td>1</td>\n",
              "      <td>0</td>\n",
              "      <td>...</td>\n",
              "      <td>1</td>\n",
              "      <td>0</td>\n",
              "      <td>0</td>\n",
              "      <td>0</td>\n",
              "      <td>1</td>\n",
              "      <td>0</td>\n",
              "      <td>0</td>\n",
              "      <td>1</td>\n",
              "      <td>0</td>\n",
              "      <td>0</td>\n",
              "    </tr>\n",
              "    <tr>\n",
              "      <th>4</th>\n",
              "      <td>7.599902</td>\n",
              "      <td>145.000000</td>\n",
              "      <td>3.903991</td>\n",
              "      <td>0</td>\n",
              "      <td>0</td>\n",
              "      <td>1</td>\n",
              "      <td>0</td>\n",
              "      <td>1</td>\n",
              "      <td>0</td>\n",
              "      <td>0</td>\n",
              "      <td>...</td>\n",
              "      <td>0</td>\n",
              "      <td>0</td>\n",
              "      <td>0</td>\n",
              "      <td>0</td>\n",
              "      <td>0</td>\n",
              "      <td>1</td>\n",
              "      <td>0</td>\n",
              "      <td>1</td>\n",
              "      <td>0</td>\n",
              "      <td>0</td>\n",
              "    </tr>\n",
              "    <tr>\n",
              "      <th>...</th>\n",
              "      <td>...</td>\n",
              "      <td>...</td>\n",
              "      <td>...</td>\n",
              "      <td>...</td>\n",
              "      <td>...</td>\n",
              "      <td>...</td>\n",
              "      <td>...</td>\n",
              "      <td>...</td>\n",
              "      <td>...</td>\n",
              "      <td>...</td>\n",
              "      <td>...</td>\n",
              "      <td>...</td>\n",
              "      <td>...</td>\n",
              "      <td>...</td>\n",
              "      <td>...</td>\n",
              "      <td>...</td>\n",
              "      <td>...</td>\n",
              "      <td>...</td>\n",
              "      <td>...</td>\n",
              "      <td>...</td>\n",
              "      <td>...</td>\n",
              "    </tr>\n",
              "    <tr>\n",
              "      <th>104636</th>\n",
              "      <td>11.211820</td>\n",
              "      <td>125.000000</td>\n",
              "      <td>4.075841</td>\n",
              "      <td>0</td>\n",
              "      <td>0</td>\n",
              "      <td>0</td>\n",
              "      <td>0</td>\n",
              "      <td>1</td>\n",
              "      <td>0</td>\n",
              "      <td>0</td>\n",
              "      <td>...</td>\n",
              "      <td>1</td>\n",
              "      <td>0</td>\n",
              "      <td>0</td>\n",
              "      <td>0</td>\n",
              "      <td>1</td>\n",
              "      <td>0</td>\n",
              "      <td>0</td>\n",
              "      <td>0</td>\n",
              "      <td>0</td>\n",
              "      <td>0</td>\n",
              "    </tr>\n",
              "    <tr>\n",
              "      <th>104637</th>\n",
              "      <td>11.386251</td>\n",
              "      <td>145.000000</td>\n",
              "      <td>3.835142</td>\n",
              "      <td>0</td>\n",
              "      <td>0</td>\n",
              "      <td>0</td>\n",
              "      <td>0</td>\n",
              "      <td>1</td>\n",
              "      <td>0</td>\n",
              "      <td>0</td>\n",
              "      <td>...</td>\n",
              "      <td>0</td>\n",
              "      <td>0</td>\n",
              "      <td>0</td>\n",
              "      <td>0</td>\n",
              "      <td>0</td>\n",
              "      <td>0</td>\n",
              "      <td>0</td>\n",
              "      <td>0</td>\n",
              "      <td>0</td>\n",
              "      <td>0</td>\n",
              "    </tr>\n",
              "    <tr>\n",
              "      <th>104638</th>\n",
              "      <td>11.156251</td>\n",
              "      <td>182.050243</td>\n",
              "      <td>3.737670</td>\n",
              "      <td>0</td>\n",
              "      <td>0</td>\n",
              "      <td>0</td>\n",
              "      <td>0</td>\n",
              "      <td>1</td>\n",
              "      <td>0</td>\n",
              "      <td>0</td>\n",
              "      <td>...</td>\n",
              "      <td>0</td>\n",
              "      <td>0</td>\n",
              "      <td>0</td>\n",
              "      <td>0</td>\n",
              "      <td>0</td>\n",
              "      <td>0</td>\n",
              "      <td>0</td>\n",
              "      <td>0</td>\n",
              "      <td>0</td>\n",
              "      <td>0</td>\n",
              "    </tr>\n",
              "    <tr>\n",
              "      <th>104639</th>\n",
              "      <td>11.323023</td>\n",
              "      <td>150.000000</td>\n",
              "      <td>3.835142</td>\n",
              "      <td>0</td>\n",
              "      <td>0</td>\n",
              "      <td>0</td>\n",
              "      <td>0</td>\n",
              "      <td>1</td>\n",
              "      <td>0</td>\n",
              "      <td>0</td>\n",
              "      <td>...</td>\n",
              "      <td>0</td>\n",
              "      <td>0</td>\n",
              "      <td>0</td>\n",
              "      <td>0</td>\n",
              "      <td>0</td>\n",
              "      <td>0</td>\n",
              "      <td>0</td>\n",
              "      <td>0</td>\n",
              "      <td>0</td>\n",
              "      <td>0</td>\n",
              "    </tr>\n",
              "    <tr>\n",
              "      <th>104640</th>\n",
              "      <td>11.211820</td>\n",
              "      <td>145.000000</td>\n",
              "      <td>3.835142</td>\n",
              "      <td>0</td>\n",
              "      <td>0</td>\n",
              "      <td>0</td>\n",
              "      <td>0</td>\n",
              "      <td>1</td>\n",
              "      <td>0</td>\n",
              "      <td>0</td>\n",
              "      <td>...</td>\n",
              "      <td>0</td>\n",
              "      <td>0</td>\n",
              "      <td>0</td>\n",
              "      <td>0</td>\n",
              "      <td>0</td>\n",
              "      <td>0</td>\n",
              "      <td>0</td>\n",
              "      <td>0</td>\n",
              "      <td>0</td>\n",
              "      <td>0</td>\n",
              "    </tr>\n",
              "  </tbody>\n",
              "</table>\n",
              "<p>104641 rows × 22 columns</p>\n",
              "</div>"
            ],
            "text/plain": [
              "        ln_mileage         tax    ln_mpg  2-4 năm  4-5 năm  dưới 2 năm  \\\n",
              "0         9.663643  150.000000  4.014580        1        0           0   \n",
              "1        10.496897   83.249594  4.162003        0        1           0   \n",
              "2        10.307151   83.249594  4.014580        0        1           0   \n",
              "3        10.164004  145.000000  4.209160        1        0           0   \n",
              "4         7.599902  145.000000  3.903991        0        0           1   \n",
              "...            ...         ...       ...      ...      ...         ...   \n",
              "104636   11.211820  125.000000  4.075841        0        0           0   \n",
              "104637   11.386251  145.000000  3.835142        0        0           0   \n",
              "104638   11.156251  182.050243  3.737670        0        0           0   \n",
              "104639   11.323023  150.000000  3.835142        0        0           0   \n",
              "104640   11.211820  145.000000  3.835142        0        0           0   \n",
              "\n",
              "        hơn 5 năm  Manual  Automatic  Semi-Auto  ...  Diesel  Hybrid  \\\n",
              "0               0       1          0          0  ...       0       0   \n",
              "1               0       0          1          0  ...       1       0   \n",
              "2               0       1          0          0  ...       0       0   \n",
              "3               0       0          1          0  ...       1       0   \n",
              "4               0       1          0          0  ...       0       0   \n",
              "...           ...     ...        ...        ...  ...     ...     ...   \n",
              "104636          0       1          0          0  ...       1       0   \n",
              "104637          0       1          0          0  ...       0       0   \n",
              "104638          0       1          0          0  ...       0       0   \n",
              "104639          0       1          0          0  ...       0       0   \n",
              "104640          0       1          0          0  ...       0       0   \n",
              "\n",
              "        Electric  Medium  Very Large  Small  Large  Luxury  Mid-range  \\\n",
              "0              0       0           0      0      0       1          0   \n",
              "1              0       0           1      0      0       1          0   \n",
              "2              0       0           0      0      0       1          0   \n",
              "3              0       0           1      0      0       1          0   \n",
              "4              0       0           0      1      0       1          0   \n",
              "...          ...     ...         ...    ...    ...     ...        ...   \n",
              "104636         0       0           1      0      0       0          0   \n",
              "104637         0       0           0      0      0       0          0   \n",
              "104638         0       0           0      0      0       0          0   \n",
              "104639         0       0           0      0      0       0          0   \n",
              "104640         0       0           0      0      0       0          0   \n",
              "\n",
              "        Affordable  \n",
              "0                0  \n",
              "1                0  \n",
              "2                0  \n",
              "3                0  \n",
              "4                0  \n",
              "...            ...  \n",
              "104636           0  \n",
              "104637           0  \n",
              "104638           0  \n",
              "104639           0  \n",
              "104640           0  \n",
              "\n",
              "[104641 rows x 22 columns]"
            ]
          },
          "execution_count": 51,
          "metadata": {},
          "output_type": "execute_result"
        }
      ],
      "source": [
        "remove_cols = cat_cols\n",
        "X = X.drop(columns = remove_cols,axis =1)\n",
        "X"
      ]
    },
    {
      "cell_type": "code",
      "execution_count": 52,
      "metadata": {},
      "outputs": [
        {
          "data": {
            "text/html": [
              "<div>\n",
              "<style scoped>\n",
              "    .dataframe tbody tr th:only-of-type {\n",
              "        vertical-align: middle;\n",
              "    }\n",
              "\n",
              "    .dataframe tbody tr th {\n",
              "        vertical-align: top;\n",
              "    }\n",
              "\n",
              "    .dataframe thead th {\n",
              "        text-align: right;\n",
              "    }\n",
              "</style>\n",
              "<table border=\"1\" class=\"dataframe\">\n",
              "  <thead>\n",
              "    <tr style=\"text-align: right;\">\n",
              "      <th></th>\n",
              "      <th>ln_mileage</th>\n",
              "      <th>tax</th>\n",
              "      <th>ln_mpg</th>\n",
              "      <th>2-4 năm</th>\n",
              "      <th>4-5 năm</th>\n",
              "      <th>dưới 2 năm</th>\n",
              "      <th>hơn 5 năm</th>\n",
              "      <th>Manual</th>\n",
              "      <th>Automatic</th>\n",
              "      <th>Semi-Auto</th>\n",
              "      <th>...</th>\n",
              "      <th>Diesel</th>\n",
              "      <th>Hybrid</th>\n",
              "      <th>Electric</th>\n",
              "      <th>Medium</th>\n",
              "      <th>Very Large</th>\n",
              "      <th>Small</th>\n",
              "      <th>Large</th>\n",
              "      <th>Luxury</th>\n",
              "      <th>Mid-range</th>\n",
              "      <th>Affordable</th>\n",
              "    </tr>\n",
              "  </thead>\n",
              "  <tbody>\n",
              "    <tr>\n",
              "      <th>0</th>\n",
              "      <td>0.095352</td>\n",
              "      <td>0.647690</td>\n",
              "      <td>0.166382</td>\n",
              "      <td>1</td>\n",
              "      <td>0</td>\n",
              "      <td>0</td>\n",
              "      <td>0</td>\n",
              "      <td>1</td>\n",
              "      <td>0</td>\n",
              "      <td>0</td>\n",
              "      <td>...</td>\n",
              "      <td>0</td>\n",
              "      <td>0</td>\n",
              "      <td>0</td>\n",
              "      <td>0</td>\n",
              "      <td>0</td>\n",
              "      <td>0</td>\n",
              "      <td>0</td>\n",
              "      <td>1</td>\n",
              "      <td>0</td>\n",
              "      <td>0</td>\n",
              "    </tr>\n",
              "    <tr>\n",
              "      <th>1</th>\n",
              "      <td>0.824697</td>\n",
              "      <td>-1.702681</td>\n",
              "      <td>0.866183</td>\n",
              "      <td>0</td>\n",
              "      <td>1</td>\n",
              "      <td>0</td>\n",
              "      <td>0</td>\n",
              "      <td>0</td>\n",
              "      <td>1</td>\n",
              "      <td>0</td>\n",
              "      <td>...</td>\n",
              "      <td>1</td>\n",
              "      <td>0</td>\n",
              "      <td>0</td>\n",
              "      <td>0</td>\n",
              "      <td>1</td>\n",
              "      <td>0</td>\n",
              "      <td>0</td>\n",
              "      <td>1</td>\n",
              "      <td>0</td>\n",
              "      <td>0</td>\n",
              "    </tr>\n",
              "    <tr>\n",
              "      <th>2</th>\n",
              "      <td>0.658612</td>\n",
              "      <td>-1.702681</td>\n",
              "      <td>0.166382</td>\n",
              "      <td>0</td>\n",
              "      <td>1</td>\n",
              "      <td>0</td>\n",
              "      <td>0</td>\n",
              "      <td>1</td>\n",
              "      <td>0</td>\n",
              "      <td>0</td>\n",
              "      <td>...</td>\n",
              "      <td>0</td>\n",
              "      <td>0</td>\n",
              "      <td>0</td>\n",
              "      <td>0</td>\n",
              "      <td>0</td>\n",
              "      <td>0</td>\n",
              "      <td>0</td>\n",
              "      <td>1</td>\n",
              "      <td>0</td>\n",
              "      <td>0</td>\n",
              "    </tr>\n",
              "    <tr>\n",
              "      <th>3</th>\n",
              "      <td>0.533316</td>\n",
              "      <td>0.471633</td>\n",
              "      <td>1.090032</td>\n",
              "      <td>1</td>\n",
              "      <td>0</td>\n",
              "      <td>0</td>\n",
              "      <td>0</td>\n",
              "      <td>0</td>\n",
              "      <td>1</td>\n",
              "      <td>0</td>\n",
              "      <td>...</td>\n",
              "      <td>1</td>\n",
              "      <td>0</td>\n",
              "      <td>0</td>\n",
              "      <td>0</td>\n",
              "      <td>1</td>\n",
              "      <td>0</td>\n",
              "      <td>0</td>\n",
              "      <td>1</td>\n",
              "      <td>0</td>\n",
              "      <td>0</td>\n",
              "    </tr>\n",
              "    <tr>\n",
              "      <th>4</th>\n",
              "      <td>-1.711033</td>\n",
              "      <td>0.471633</td>\n",
              "      <td>-0.358570</td>\n",
              "      <td>0</td>\n",
              "      <td>0</td>\n",
              "      <td>1</td>\n",
              "      <td>0</td>\n",
              "      <td>1</td>\n",
              "      <td>0</td>\n",
              "      <td>0</td>\n",
              "      <td>...</td>\n",
              "      <td>0</td>\n",
              "      <td>0</td>\n",
              "      <td>0</td>\n",
              "      <td>0</td>\n",
              "      <td>0</td>\n",
              "      <td>1</td>\n",
              "      <td>0</td>\n",
              "      <td>1</td>\n",
              "      <td>0</td>\n",
              "      <td>0</td>\n",
              "    </tr>\n",
              "    <tr>\n",
              "      <th>...</th>\n",
              "      <td>...</td>\n",
              "      <td>...</td>\n",
              "      <td>...</td>\n",
              "      <td>...</td>\n",
              "      <td>...</td>\n",
              "      <td>...</td>\n",
              "      <td>...</td>\n",
              "      <td>...</td>\n",
              "      <td>...</td>\n",
              "      <td>...</td>\n",
              "      <td>...</td>\n",
              "      <td>...</td>\n",
              "      <td>...</td>\n",
              "      <td>...</td>\n",
              "      <td>...</td>\n",
              "      <td>...</td>\n",
              "      <td>...</td>\n",
              "      <td>...</td>\n",
              "      <td>...</td>\n",
              "      <td>...</td>\n",
              "      <td>...</td>\n",
              "    </tr>\n",
              "    <tr>\n",
              "      <th>104636</th>\n",
              "      <td>1.450466</td>\n",
              "      <td>-0.232593</td>\n",
              "      <td>0.457182</td>\n",
              "      <td>0</td>\n",
              "      <td>0</td>\n",
              "      <td>0</td>\n",
              "      <td>0</td>\n",
              "      <td>1</td>\n",
              "      <td>0</td>\n",
              "      <td>0</td>\n",
              "      <td>...</td>\n",
              "      <td>1</td>\n",
              "      <td>0</td>\n",
              "      <td>0</td>\n",
              "      <td>0</td>\n",
              "      <td>1</td>\n",
              "      <td>0</td>\n",
              "      <td>0</td>\n",
              "      <td>0</td>\n",
              "      <td>0</td>\n",
              "      <td>0</td>\n",
              "    </tr>\n",
              "    <tr>\n",
              "      <th>104637</th>\n",
              "      <td>1.603144</td>\n",
              "      <td>0.471633</td>\n",
              "      <td>-0.685387</td>\n",
              "      <td>0</td>\n",
              "      <td>0</td>\n",
              "      <td>0</td>\n",
              "      <td>0</td>\n",
              "      <td>1</td>\n",
              "      <td>0</td>\n",
              "      <td>0</td>\n",
              "      <td>...</td>\n",
              "      <td>0</td>\n",
              "      <td>0</td>\n",
              "      <td>0</td>\n",
              "      <td>0</td>\n",
              "      <td>0</td>\n",
              "      <td>0</td>\n",
              "      <td>0</td>\n",
              "      <td>0</td>\n",
              "      <td>0</td>\n",
              "      <td>0</td>\n",
              "    </tr>\n",
              "    <tr>\n",
              "      <th>104638</th>\n",
              "      <td>1.401826</td>\n",
              "      <td>1.776221</td>\n",
              "      <td>-1.148076</td>\n",
              "      <td>0</td>\n",
              "      <td>0</td>\n",
              "      <td>0</td>\n",
              "      <td>0</td>\n",
              "      <td>1</td>\n",
              "      <td>0</td>\n",
              "      <td>0</td>\n",
              "      <td>...</td>\n",
              "      <td>0</td>\n",
              "      <td>0</td>\n",
              "      <td>0</td>\n",
              "      <td>0</td>\n",
              "      <td>0</td>\n",
              "      <td>0</td>\n",
              "      <td>0</td>\n",
              "      <td>0</td>\n",
              "      <td>0</td>\n",
              "      <td>0</td>\n",
              "    </tr>\n",
              "    <tr>\n",
              "      <th>104639</th>\n",
              "      <td>1.547802</td>\n",
              "      <td>0.647690</td>\n",
              "      <td>-0.685387</td>\n",
              "      <td>0</td>\n",
              "      <td>0</td>\n",
              "      <td>0</td>\n",
              "      <td>0</td>\n",
              "      <td>1</td>\n",
              "      <td>0</td>\n",
              "      <td>0</td>\n",
              "      <td>...</td>\n",
              "      <td>0</td>\n",
              "      <td>0</td>\n",
              "      <td>0</td>\n",
              "      <td>0</td>\n",
              "      <td>0</td>\n",
              "      <td>0</td>\n",
              "      <td>0</td>\n",
              "      <td>0</td>\n",
              "      <td>0</td>\n",
              "      <td>0</td>\n",
              "    </tr>\n",
              "    <tr>\n",
              "      <th>104640</th>\n",
              "      <td>1.450466</td>\n",
              "      <td>0.471633</td>\n",
              "      <td>-0.685387</td>\n",
              "      <td>0</td>\n",
              "      <td>0</td>\n",
              "      <td>0</td>\n",
              "      <td>0</td>\n",
              "      <td>1</td>\n",
              "      <td>0</td>\n",
              "      <td>0</td>\n",
              "      <td>...</td>\n",
              "      <td>0</td>\n",
              "      <td>0</td>\n",
              "      <td>0</td>\n",
              "      <td>0</td>\n",
              "      <td>0</td>\n",
              "      <td>0</td>\n",
              "      <td>0</td>\n",
              "      <td>0</td>\n",
              "      <td>0</td>\n",
              "      <td>0</td>\n",
              "    </tr>\n",
              "  </tbody>\n",
              "</table>\n",
              "<p>104641 rows × 22 columns</p>\n",
              "</div>"
            ],
            "text/plain": [
              "        ln_mileage       tax    ln_mpg  2-4 năm  4-5 năm  dưới 2 năm  \\\n",
              "0         0.095352  0.647690  0.166382        1        0           0   \n",
              "1         0.824697 -1.702681  0.866183        0        1           0   \n",
              "2         0.658612 -1.702681  0.166382        0        1           0   \n",
              "3         0.533316  0.471633  1.090032        1        0           0   \n",
              "4        -1.711033  0.471633 -0.358570        0        0           1   \n",
              "...            ...       ...       ...      ...      ...         ...   \n",
              "104636    1.450466 -0.232593  0.457182        0        0           0   \n",
              "104637    1.603144  0.471633 -0.685387        0        0           0   \n",
              "104638    1.401826  1.776221 -1.148076        0        0           0   \n",
              "104639    1.547802  0.647690 -0.685387        0        0           0   \n",
              "104640    1.450466  0.471633 -0.685387        0        0           0   \n",
              "\n",
              "        hơn 5 năm  Manual  Automatic  Semi-Auto  ...  Diesel  Hybrid  \\\n",
              "0               0       1          0          0  ...       0       0   \n",
              "1               0       0          1          0  ...       1       0   \n",
              "2               0       1          0          0  ...       0       0   \n",
              "3               0       0          1          0  ...       1       0   \n",
              "4               0       1          0          0  ...       0       0   \n",
              "...           ...     ...        ...        ...  ...     ...     ...   \n",
              "104636          0       1          0          0  ...       1       0   \n",
              "104637          0       1          0          0  ...       0       0   \n",
              "104638          0       1          0          0  ...       0       0   \n",
              "104639          0       1          0          0  ...       0       0   \n",
              "104640          0       1          0          0  ...       0       0   \n",
              "\n",
              "        Electric  Medium  Very Large  Small  Large  Luxury  Mid-range  \\\n",
              "0              0       0           0      0      0       1          0   \n",
              "1              0       0           1      0      0       1          0   \n",
              "2              0       0           0      0      0       1          0   \n",
              "3              0       0           1      0      0       1          0   \n",
              "4              0       0           0      1      0       1          0   \n",
              "...          ...     ...         ...    ...    ...     ...        ...   \n",
              "104636         0       0           1      0      0       0          0   \n",
              "104637         0       0           0      0      0       0          0   \n",
              "104638         0       0           0      0      0       0          0   \n",
              "104639         0       0           0      0      0       0          0   \n",
              "104640         0       0           0      0      0       0          0   \n",
              "\n",
              "        Affordable  \n",
              "0                0  \n",
              "1                0  \n",
              "2                0  \n",
              "3                0  \n",
              "4                0  \n",
              "...            ...  \n",
              "104636           0  \n",
              "104637           0  \n",
              "104638           0  \n",
              "104639           0  \n",
              "104640           0  \n",
              "\n",
              "[104641 rows x 22 columns]"
            ]
          },
          "execution_count": 52,
          "metadata": {},
          "output_type": "execute_result"
        }
      ],
      "source": [
        "# Thực hiện scaler cho các cột numerical\n",
        "from sklearn.preprocessing import StandardScaler\n",
        "num_cols = ['ln_mileage','tax','ln_mpg']\n",
        "scaler = StandardScaler()\n",
        "X[num_cols] = pd.DataFrame(data = scaler.fit_transform(X[num_cols]), columns= num_cols)\n",
        "X\n"
      ]
    },
    {
      "cell_type": "code",
      "execution_count": 56,
      "metadata": {},
      "outputs": [
        {
          "data": {
            "text/plain": [
              "<AxesSubplot: xlabel='ln_mileage', ylabel='Count'>"
            ]
          },
          "execution_count": 56,
          "metadata": {},
          "output_type": "execute_result"
        },
        {
          "data": {
            "image/png": "[encoded data removed]",
            "text/plain": [
              "<Figure size 800x550 with 1 Axes>"
            ]
          },
          "metadata": {},
          "output_type": "display_data"
        }
      ],
      "source": [
        "sns.histplot(data = X, x ='ln_mileage', bins = 40)"
      ]
    },
    {
      "cell_type": "code",
      "execution_count": 57,
      "metadata": {},
      "outputs": [
        {
          "data": {
            "text/plain": [
              "(83712, 20929)"
            ]
          },
          "execution_count": 57,
          "metadata": {},
          "output_type": "execute_result"
        }
      ],
      "source": [
        "#Chia bộ dữ liệu\n",
        "from sklearn.model_selection import train_test_split\n",
        "X_train, X_test, y_train, y_test = train_test_split(X,y, train_size = 0.8)\n",
        "len(X_train), len(X_test)"
      ]
    },
    {
      "cell_type": "code",
      "execution_count": 60,
      "metadata": {},
      "outputs": [],
      "source": [
        "#Huấn luyện mô hình\n",
        "model = sm.OLS(y_train, X_train)\n",
        "\n",
        "results = model.fit()"
      ]
    },
    {
      "cell_type": "code",
      "execution_count": 61,
      "metadata": {},
      "outputs": [
        {
          "data": {
            "text/html": [
              "<table class=\"simpletable\">\n",
              "<caption>OLS Regression Results</caption>\n",
              "<tr>\n",
              "  <th>Dep. Variable:</th>          <td>price</td>      <th>  R-squared (uncentered):</th>       <td>   0.966</td>  \n",
              "</tr>\n",
              "<tr>\n",
              "  <th>Model:</th>                   <td>OLS</td>       <th>  Adj. R-squared (uncentered):</th>  <td>   0.966</td>  \n",
              "</tr>\n",
              "<tr>\n",
              "  <th>Method:</th>             <td>Least Squares</td>  <th>  F-statistic:       </th>           <td>1.327e+05</td> \n",
              "</tr>\n",
              "<tr>\n",
              "  <th>Date:</th>             <td>Sat, 10 Jun 2023</td> <th>  Prob (F-statistic):</th>            <td>  0.00</td>   \n",
              "</tr>\n",
              "<tr>\n",
              "  <th>Time:</th>                 <td>20:31:26</td>     <th>  Log-Likelihood:    </th>          <td>-7.9740e+05</td>\n",
              "</tr>\n",
              "<tr>\n",
              "  <th>No. Observations:</th>      <td> 83712</td>      <th>  AIC:               </th>           <td>1.595e+06</td> \n",
              "</tr>\n",
              "<tr>\n",
              "  <th>Df Residuals:</th>          <td> 83694</td>      <th>  BIC:               </th>           <td>1.595e+06</td> \n",
              "</tr>\n",
              "<tr>\n",
              "  <th>Df Model:</th>              <td>    18</td>      <th>                     </th>               <td> </td>     \n",
              "</tr>\n",
              "<tr>\n",
              "  <th>Covariance Type:</th>      <td>nonrobust</td>    <th>                     </th>               <td> </td>     \n",
              "</tr>\n",
              "</table>\n",
              "<table class=\"simpletable\">\n",
              "<tr>\n",
              "       <td></td>         <th>coef</th>     <th>std err</th>      <th>t</th>      <th>P>|t|</th>  <th>[0.025</th>    <th>0.975]</th>  \n",
              "</tr>\n",
              "<tr>\n",
              "  <th>ln_mileage</th> <td>-1773.4115</td> <td>   18.338</td> <td>  -96.709</td> <td> 0.000</td> <td>-1809.353</td> <td>-1737.470</td>\n",
              "</tr>\n",
              "<tr>\n",
              "  <th>tax</th>        <td> -509.0078</td> <td>   15.395</td> <td>  -33.064</td> <td> 0.000</td> <td> -539.181</td> <td> -478.834</td>\n",
              "</tr>\n",
              "<tr>\n",
              "  <th>ln_mpg</th>     <td>-2525.2214</td> <td>   19.280</td> <td> -130.978</td> <td> 0.000</td> <td>-2563.010</td> <td>-2487.433</td>\n",
              "</tr>\n",
              "<tr>\n",
              "  <th>2-4 năm</th>    <td> 5336.0008</td> <td>   38.183</td> <td>  139.746</td> <td> 0.000</td> <td> 5261.161</td> <td> 5410.840</td>\n",
              "</tr>\n",
              "<tr>\n",
              "  <th>4-5 năm</th>    <td> 3051.6809</td> <td>   41.304</td> <td>   73.884</td> <td> 0.000</td> <td> 2970.726</td> <td> 3132.636</td>\n",
              "</tr>\n",
              "<tr>\n",
              "  <th>dưới 2 năm</th> <td> 6987.4185</td> <td>   52.373</td> <td>  133.417</td> <td> 0.000</td> <td> 6884.768</td> <td> 7090.069</td>\n",
              "</tr>\n",
              "<tr>\n",
              "  <th>hơn 5 năm</th>  <td> 1.669e-13</td> <td> 1.32e-11</td> <td>    0.013</td> <td> 0.990</td> <td>-2.56e-11</td> <td>  2.6e-11</td>\n",
              "</tr>\n",
              "<tr>\n",
              "  <th>Manual</th>     <td> 4963.6798</td> <td> 1000.774</td> <td>    4.960</td> <td> 0.000</td> <td> 3002.170</td> <td> 6925.189</td>\n",
              "</tr>\n",
              "<tr>\n",
              "  <th>Automatic</th>  <td> 6759.0619</td> <td> 1000.526</td> <td>    6.756</td> <td> 0.000</td> <td> 4798.039</td> <td> 8720.085</td>\n",
              "</tr>\n",
              "<tr>\n",
              "  <th>Semi-Auto</th>  <td> 7698.6430</td> <td> 1000.898</td> <td>    7.692</td> <td> 0.000</td> <td> 5736.890</td> <td> 9660.396</td>\n",
              "</tr>\n",
              "<tr>\n",
              "  <th>Other</th>      <td> 5043.6698</td> <td> 1023.232</td> <td>    4.929</td> <td> 0.000</td> <td> 3038.143</td> <td> 7049.196</td>\n",
              "</tr>\n",
              "<tr>\n",
              "  <th>Petrol</th>     <td> 1641.2474</td> <td> 1001.173</td> <td>    1.639</td> <td> 0.101</td> <td> -321.045</td> <td> 3603.540</td>\n",
              "</tr>\n",
              "<tr>\n",
              "  <th>Diesel</th>     <td> 3818.3380</td> <td> 1001.355</td> <td>    3.813</td> <td> 0.000</td> <td> 1855.690</td> <td> 5780.986</td>\n",
              "</tr>\n",
              "<tr>\n",
              "  <th>Hybrid</th>     <td> 9587.9516</td> <td> 1003.451</td> <td>    9.555</td> <td> 0.000</td> <td> 7621.196</td> <td> 1.16e+04</td>\n",
              "</tr>\n",
              "<tr>\n",
              "  <th>Electric</th>   <td> -3.54e-12</td> <td> 1.26e-11</td> <td>   -0.282</td> <td> 0.778</td> <td>-2.82e-11</td> <td> 2.11e-11</td>\n",
              "</tr>\n",
              "<tr>\n",
              "  <th>Medium</th>     <td>-1.073e-12</td> <td> 3.44e-12</td> <td>   -0.312</td> <td> 0.755</td> <td>-7.81e-12</td> <td> 5.67e-12</td>\n",
              "</tr>\n",
              "<tr>\n",
              "  <th>Very Large</th> <td> 4734.6816</td> <td>   49.403</td> <td>   95.837</td> <td> 0.000</td> <td> 4637.851</td> <td> 4831.512</td>\n",
              "</tr>\n",
              "<tr>\n",
              "  <th>Small</th>      <td>  847.0438</td> <td>   39.767</td> <td>   21.300</td> <td> 0.000</td> <td>  769.101</td> <td>  924.987</td>\n",
              "</tr>\n",
              "<tr>\n",
              "  <th>Large</th>      <td> 1506.7365</td> <td>   41.376</td> <td>   36.415</td> <td> 0.000</td> <td> 1425.639</td> <td> 1587.834</td>\n",
              "</tr>\n",
              "<tr>\n",
              "  <th>Luxury</th>     <td> 3498.4517</td> <td>   34.198</td> <td>  102.299</td> <td> 0.000</td> <td> 3431.423</td> <td> 3565.480</td>\n",
              "</tr>\n",
              "<tr>\n",
              "  <th>Mid-range</th>  <td>         0</td> <td>        0</td> <td>      nan</td> <td>   nan</td> <td>        0</td> <td>        0</td>\n",
              "</tr>\n",
              "<tr>\n",
              "  <th>Affordable</th> <td>-1465.6783</td> <td>   30.439</td> <td>  -48.152</td> <td> 0.000</td> <td>-1525.338</td> <td>-1406.019</td>\n",
              "</tr>\n",
              "</table>\n",
              "<table class=\"simpletable\">\n",
              "<tr>\n",
              "  <th>Omnibus:</th>       <td>2810.948</td> <th>  Durbin-Watson:     </th> <td>   1.998</td>\n",
              "</tr>\n",
              "<tr>\n",
              "  <th>Prob(Omnibus):</th>  <td> 0.000</td>  <th>  Jarque-Bera (JB):  </th> <td>7314.265</td>\n",
              "</tr>\n",
              "<tr>\n",
              "  <th>Skew:</th>           <td> 0.127</td>  <th>  Prob(JB):          </th> <td>    0.00</td>\n",
              "</tr>\n",
              "<tr>\n",
              "  <th>Kurtosis:</th>       <td> 4.426</td>  <th>  Cond. No.          </th> <td>3.24e+35</td>\n",
              "</tr>\n",
              "</table><br/><br/>Notes:<br/>[1] R² is computed without centering (uncentered) since the model does not contain a constant.<br/>[2] Standard Errors assume that the covariance matrix of the errors is correctly specified.<br/>[3] The smallest eigenvalue is 1.59e-66. This might indicate that there are<br/>strong multicollinearity problems or that the design matrix is singular."
            ],
            "text/latex": [
              "\\begin{center}\n",
              "\\begin{tabular}{lclc}\n",
              "\\toprule\n",
              "\\textbf{Dep. Variable:}    &      price       & \\textbf{  R-squared (uncentered):}      &      0.966   \\\\\n",
              "\\textbf{Model:}            &       OLS        & \\textbf{  Adj. R-squared (uncentered):} &      0.966   \\\\\n",
              "\\textbf{Method:}           &  Least Squares   & \\textbf{  F-statistic:       }          &  1.327e+05   \\\\\n",
              "\\textbf{Date:}             & Sat, 10 Jun 2023 & \\textbf{  Prob (F-statistic):}          &      0.00    \\\\\n",
              "\\textbf{Time:}             &     20:31:26     & \\textbf{  Log-Likelihood:    }          & -7.9740e+05  \\\\\n",
              "\\textbf{No. Observations:} &       83712      & \\textbf{  AIC:               }          &  1.595e+06   \\\\\n",
              "\\textbf{Df Residuals:}     &       83694      & \\textbf{  BIC:               }          &  1.595e+06   \\\\\n",
              "\\textbf{Df Model:}         &          18      & \\textbf{                     }          &              \\\\\n",
              "\\textbf{Covariance Type:}  &    nonrobust     & \\textbf{                     }          &              \\\\\n",
              "\\bottomrule\n",
              "\\end{tabular}\n",
              "\\begin{tabular}{lcccccc}\n",
              "                     & \\textbf{coef} & \\textbf{std err} & \\textbf{t} & \\textbf{P$> |$t$|$} & \\textbf{[0.025} & \\textbf{0.975]}  \\\\\n",
              "\\midrule\n",
              "\\textbf{ln\\_mileage} &   -1773.4115  &       18.338     &   -96.709  &         0.000        &    -1809.353    &    -1737.470     \\\\\n",
              "\\textbf{tax}         &    -509.0078  &       15.395     &   -33.064  &         0.000        &     -539.181    &     -478.834     \\\\\n",
              "\\textbf{ln\\_mpg}     &   -2525.2214  &       19.280     &  -130.978  &         0.000        &    -2563.010    &    -2487.433     \\\\\n",
              "\\textbf{2-4 năm}     &    5336.0008  &       38.183     &   139.746  &         0.000        &     5261.161    &     5410.840     \\\\\n",
              "\\textbf{4-5 năm}     &    3051.6809  &       41.304     &    73.884  &         0.000        &     2970.726    &     3132.636     \\\\\n",
              "\\textbf{dưới 2 năm}  &    6987.4185  &       52.373     &   133.417  &         0.000        &     6884.768    &     7090.069     \\\\\n",
              "\\textbf{hơn 5 năm}   &    1.669e-13  &     1.32e-11     &     0.013  &         0.990        &    -2.56e-11    &      2.6e-11     \\\\\n",
              "\\textbf{Manual}      &    4963.6798  &     1000.774     &     4.960  &         0.000        &     3002.170    &     6925.189     \\\\\n",
              "\\textbf{Automatic}   &    6759.0619  &     1000.526     &     6.756  &         0.000        &     4798.039    &     8720.085     \\\\\n",
              "\\textbf{Semi-Auto}   &    7698.6430  &     1000.898     &     7.692  &         0.000        &     5736.890    &     9660.396     \\\\\n",
              "\\textbf{Other}       &    5043.6698  &     1023.232     &     4.929  &         0.000        &     3038.143    &     7049.196     \\\\\n",
              "\\textbf{Petrol}      &    1641.2474  &     1001.173     &     1.639  &         0.101        &     -321.045    &     3603.540     \\\\\n",
              "\\textbf{Diesel}      &    3818.3380  &     1001.355     &     3.813  &         0.000        &     1855.690    &     5780.986     \\\\\n",
              "\\textbf{Hybrid}      &    9587.9516  &     1003.451     &     9.555  &         0.000        &     7621.196    &     1.16e+04     \\\\\n",
              "\\textbf{Electric}    &    -3.54e-12  &     1.26e-11     &    -0.282  &         0.778        &    -2.82e-11    &     2.11e-11     \\\\\n",
              "\\textbf{Medium}      &   -1.073e-12  &     3.44e-12     &    -0.312  &         0.755        &    -7.81e-12    &     5.67e-12     \\\\\n",
              "\\textbf{Very Large}  &    4734.6816  &       49.403     &    95.837  &         0.000        &     4637.851    &     4831.512     \\\\\n",
              "\\textbf{Small}       &     847.0438  &       39.767     &    21.300  &         0.000        &      769.101    &      924.987     \\\\\n",
              "\\textbf{Large}       &    1506.7365  &       41.376     &    36.415  &         0.000        &     1425.639    &     1587.834     \\\\\n",
              "\\textbf{Luxury}      &    3498.4517  &       34.198     &   102.299  &         0.000        &     3431.423    &     3565.480     \\\\\n",
              "\\textbf{Mid-range}   &            0  &            0     &       nan  &           nan        &            0    &            0     \\\\\n",
              "\\textbf{Affordable}  &   -1465.6783  &       30.439     &   -48.152  &         0.000        &    -1525.338    &    -1406.019     \\\\\n",
              "\\bottomrule\n",
              "\\end{tabular}\n",
              "\\begin{tabular}{lclc}\n",
              "\\textbf{Omnibus:}       & 2810.948 & \\textbf{  Durbin-Watson:     } &    1.998  \\\\\n",
              "\\textbf{Prob(Omnibus):} &   0.000  & \\textbf{  Jarque-Bera (JB):  } & 7314.265  \\\\\n",
              "\\textbf{Skew:}          &   0.127  & \\textbf{  Prob(JB):          } &     0.00  \\\\\n",
              "\\textbf{Kurtosis:}      &   4.426  & \\textbf{  Cond. No.          } & 3.24e+35  \\\\\n",
              "\\bottomrule\n",
              "\\end{tabular}\n",
              "%\\caption{OLS Regression Results}\n",
              "\\end{center}\n",
              "\n",
              "Notes: \\newline\n",
              " [1] R² is computed without centering (uncentered) since the model does not contain a constant. \\newline\n",
              " [2] Standard Errors assume that the covariance matrix of the errors is correctly specified. \\newline\n",
              " [3] The smallest eigenvalue is 1.59e-66. This might indicate that there are \\newline\n",
              " strong multicollinearity problems or that the design matrix is singular."
            ],
            "text/plain": [
              "<class 'statsmodels.iolib.summary.Summary'>\n",
              "\"\"\"\n",
              "                                 OLS Regression Results                                \n",
              "=======================================================================================\n",
              "Dep. Variable:                  price   R-squared (uncentered):                   0.966\n",
              "Model:                            OLS   Adj. R-squared (uncentered):              0.966\n",
              "Method:                 Least Squares   F-statistic:                          1.327e+05\n",
              "Date:                Sat, 10 Jun 2023   Prob (F-statistic):                        0.00\n",
              "Time:                        20:31:26   Log-Likelihood:                     -7.9740e+05\n",
              "No. Observations:               83712   AIC:                                  1.595e+06\n",
              "Df Residuals:                   83694   BIC:                                  1.595e+06\n",
              "Df Model:                          18                                                  \n",
              "Covariance Type:            nonrobust                                                  \n",
              "==============================================================================\n",
              "                 coef    std err          t      P>|t|      [0.025      0.975]\n",
              "------------------------------------------------------------------------------\n",
              "ln_mileage -1773.4115     18.338    -96.709      0.000   -1809.353   -1737.470\n",
              "tax         -509.0078     15.395    -33.064      0.000    -539.181    -478.834\n",
              "ln_mpg     -2525.2214     19.280   -130.978      0.000   -2563.010   -2487.433\n",
              "2-4 năm     5336.0008     38.183    139.746      0.000    5261.161    5410.840\n",
              "4-5 năm     3051.6809     41.304     73.884      0.000    2970.726    3132.636\n",
              "dưới 2 năm  6987.4185     52.373    133.417      0.000    6884.768    7090.069\n",
              "hơn 5 năm   1.669e-13   1.32e-11      0.013      0.990   -2.56e-11     2.6e-11\n",
              "Manual      4963.6798   1000.774      4.960      0.000    3002.170    6925.189\n",
              "Automatic   6759.0619   1000.526      6.756      0.000    4798.039    8720.085\n",
              "Semi-Auto   7698.6430   1000.898      7.692      0.000    5736.890    9660.396\n",
              "Other       5043.6698   1023.232      4.929      0.000    3038.143    7049.196\n",
              "Petrol      1641.2474   1001.173      1.639      0.101    -321.045    3603.540\n",
              "Diesel      3818.3380   1001.355      3.813      0.000    1855.690    5780.986\n",
              "Hybrid      9587.9516   1003.451      9.555      0.000    7621.196    1.16e+04\n",
              "Electric    -3.54e-12   1.26e-11     -0.282      0.778   -2.82e-11    2.11e-11\n",
              "Medium     -1.073e-12   3.44e-12     -0.312      0.755   -7.81e-12    5.67e-12\n",
              "Very Large  4734.6816     49.403     95.837      0.000    4637.851    4831.512\n",
              "Small        847.0438     39.767     21.300      0.000     769.101     924.987\n",
              "Large       1506.7365     41.376     36.415      0.000    1425.639    1587.834\n",
              "Luxury      3498.4517     34.198    102.299      0.000    3431.423    3565.480\n",
              "Mid-range           0          0        nan        nan           0           0\n",
              "Affordable -1465.6783     30.439    -48.152      0.000   -1525.338   -1406.019\n",
              "==============================================================================\n",
              "Omnibus:                     2810.948   Durbin-Watson:                   1.998\n",
              "Prob(Omnibus):                  0.000   Jarque-Bera (JB):             7314.265\n",
              "Skew:                           0.127   Prob(JB):                         0.00\n",
              "Kurtosis:                       4.426   Cond. No.                     3.24e+35\n",
              "==============================================================================\n",
              "\n",
              "Notes:\n",
              "[1] R² is computed without centering (uncentered) since the model does not contain a constant.\n",
              "[2] Standard Errors assume that the covariance matrix of the errors is correctly specified.\n",
              "[3] The smallest eigenvalue is 1.59e-66. This might indicate that there are\n",
              "strong multicollinearity problems or that the design matrix is singular.\n",
              "\"\"\""
            ]
          },
          "execution_count": 61,
          "metadata": {},
          "output_type": "execute_result"
        }
      ],
      "source": [
        "results.summary()"
      ]
    },
    {
      "cell_type": "code",
      "execution_count": 62,
      "metadata": {},
      "outputs": [
        {
          "data": {
            "image/png": "[encoded data removed]",
            "text/plain": [
              "<Figure size 800x550 with 1 Axes>"
            ]
          },
          "metadata": {},
          "output_type": "display_data"
        }
      ],
      "source": [
        "y_pred = results.predict(X_test)\n",
        "residuals = y_test - y_pred\n",
        "plt.scatter(y_pred, residuals)\n",
        "plt.axhline(y=0, color='r', linestyle='--')\n",
        "plt.xlabel(\"Predicted Values\")\n",
        "plt.ylabel(\"Residuals\")\n",
        "plt.title(\"Residual Plot\")\n",
        "plt.show()"
      ]
    },
    {
      "cell_type": "code",
      "execution_count": 63,
      "metadata": {},
      "outputs": [
        {
          "name": "stdout",
          "output_type": "stream",
          "text": [
            "MSE: 10982795.131029736\n",
            "RMSE: 3314.0300437729493\n"
          ]
        }
      ],
      "source": [
        "# Calculate MSE\n",
        "mse = mean_squared_error(y_test, y_pred)\n",
        "\n",
        "# Calculate RMSE\n",
        "rmse = np.sqrt(mse)\n",
        "\n",
        "print(\"MSE:\", mse)\n",
        "print(\"RMSE:\", rmse)"
      ]
    }
  ],
  "metadata": {
    "colab": {
      "collapsed_sections": [
        "NZrtsHPsIkoj",
        "LUEPn0a8Ionz",
        "wLFc42dJqMCY"
      ],
      "provenance": []
    },
    "kernelspec": {
      "display_name": "Python 3",
      "name": "python3"
    },
    "language_info": {
      "codemirror_mode": {
        "name": "ipython",
        "version": 3
      },
      "file_extension": ".py",
      "mimetype": "text/x-python",
      "name": "python",
      "nbconvert_exporter": "python",
      "pygments_lexer": "ipython3",
      "version": "3.10.8"
    }
  },
  "nbformat": 4,
  "nbformat_minor": 0
}
